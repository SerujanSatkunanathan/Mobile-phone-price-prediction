{
  "cells": [
    {
      "cell_type": "markdown",
      "metadata": {
        "id": "bnyh1Lp1c52D"
      },
      "source": [
        "# Data Preprocessing"
      ]
    },
    {
      "cell_type": "markdown",
      "metadata": {
        "id": "qkx7LL9tnPQJ"
      },
      "source": [
        "### Import Libraries"
      ]
    },
    {
      "cell_type": "code",
      "execution_count": null,
      "metadata": {
        "id": "P2FuJQ2whAzz"
      },
      "outputs": [],
      "source": [
        "import statistics\n",
        "import numpy as np\n",
        "import pandas as pd\n",
        "import seaborn as sns\n",
        "import math\n",
        "import matplotlib.pyplot as plt\n",
        "import tensorflow as tf\n",
        "import joblib\n",
        "from sklearn.preprocessing import OneHotEncoder\n",
        "from sklearn.preprocessing import LabelEncoder\n",
        "from sklearn.preprocessing import StandardScaler\n",
        "from sklearn.preprocessing import MinMaxScaler\n",
        "from sklearn.ensemble import RandomForestClassifier\n",
        "from sklearn.feature_selection import RFE\n",
        "from sklearn.model_selection import train_test_split\n",
        "from sklearn.metrics import classification_report, accuracy_score\n",
        "from sklearn.model_selection import StratifiedKFold\n",
        "from sklearn.metrics import accuracy_score, classification_report"
      ]
    },
    {
      "cell_type": "markdown",
      "metadata": {
        "id": "mUrev-zLoHko"
      },
      "source": [
        "### Data Load\n"
      ]
    },
    {
      "cell_type": "code",
      "execution_count": null,
      "metadata": {
        "id": "PZSfEmWWoNTE"
      },
      "outputs": [],
      "source": [
        "data=pd.read_csv('/content/Mobile Price Prediction.csv')"
      ]
    },
    {
      "cell_type": "markdown",
      "metadata": {
        "id": "elfu9S24dmqA"
      },
      "source": [
        "### Data Understanding"
      ]
    },
    {
      "cell_type": "code",
      "execution_count": null,
      "metadata": {
        "id": "hlYrAYSNoiHZ",
        "colab": {
          "base_uri": "https://localhost:8080/",
          "height": 206
        },
        "outputId": "9d990c17-27e2-49a6-9eb9-bb72dbbe867b"
      },
      "outputs": [
        {
          "output_type": "execute_result",
          "data": {
            "text/plain": [
              "   Unnamed: 0                         Brand me  Ratings  RAM    ROM  \\\n",
              "0           0            LG V30+ (Black, 128 )      4.3  4.0  128.0   \n",
              "1           1                       I Kall K11      3.4  6.0   64.0   \n",
              "2           2                     Nokia 105 ss      4.3  4.0    4.0   \n",
              "3           3  Samsung Galaxy A50 (White, 64 )      4.4  6.0   64.0   \n",
              "4           4       POCO F1 (Steel Blue, 128 )      4.5  6.0  128.0   \n",
              "\n",
              "   Mobile_Size  Primary_Cam  Selfi_Cam  Battery_Power  Price  \n",
              "0         6.00           48       13.0           4000  24999  \n",
              "1         4.50           48       12.0           4000  15999  \n",
              "2         4.50           64       16.0           4000  15000  \n",
              "3         6.40           48       15.0           3800  18999  \n",
              "4         6.18           35       15.0           3800  18999  "
            ],
            "text/html": [
              "\n",
              "  <div id=\"df-6c7b1705-19ff-4698-b305-58b8a7704245\" class=\"colab-df-container\">\n",
              "    <div>\n",
              "<style scoped>\n",
              "    .dataframe tbody tr th:only-of-type {\n",
              "        vertical-align: middle;\n",
              "    }\n",
              "\n",
              "    .dataframe tbody tr th {\n",
              "        vertical-align: top;\n",
              "    }\n",
              "\n",
              "    .dataframe thead th {\n",
              "        text-align: right;\n",
              "    }\n",
              "</style>\n",
              "<table border=\"1\" class=\"dataframe\">\n",
              "  <thead>\n",
              "    <tr style=\"text-align: right;\">\n",
              "      <th></th>\n",
              "      <th>Unnamed: 0</th>\n",
              "      <th>Brand me</th>\n",
              "      <th>Ratings</th>\n",
              "      <th>RAM</th>\n",
              "      <th>ROM</th>\n",
              "      <th>Mobile_Size</th>\n",
              "      <th>Primary_Cam</th>\n",
              "      <th>Selfi_Cam</th>\n",
              "      <th>Battery_Power</th>\n",
              "      <th>Price</th>\n",
              "    </tr>\n",
              "  </thead>\n",
              "  <tbody>\n",
              "    <tr>\n",
              "      <th>0</th>\n",
              "      <td>0</td>\n",
              "      <td>LG V30+ (Black, 128 )</td>\n",
              "      <td>4.3</td>\n",
              "      <td>4.0</td>\n",
              "      <td>128.0</td>\n",
              "      <td>6.00</td>\n",
              "      <td>48</td>\n",
              "      <td>13.0</td>\n",
              "      <td>4000</td>\n",
              "      <td>24999</td>\n",
              "    </tr>\n",
              "    <tr>\n",
              "      <th>1</th>\n",
              "      <td>1</td>\n",
              "      <td>I Kall K11</td>\n",
              "      <td>3.4</td>\n",
              "      <td>6.0</td>\n",
              "      <td>64.0</td>\n",
              "      <td>4.50</td>\n",
              "      <td>48</td>\n",
              "      <td>12.0</td>\n",
              "      <td>4000</td>\n",
              "      <td>15999</td>\n",
              "    </tr>\n",
              "    <tr>\n",
              "      <th>2</th>\n",
              "      <td>2</td>\n",
              "      <td>Nokia 105 ss</td>\n",
              "      <td>4.3</td>\n",
              "      <td>4.0</td>\n",
              "      <td>4.0</td>\n",
              "      <td>4.50</td>\n",
              "      <td>64</td>\n",
              "      <td>16.0</td>\n",
              "      <td>4000</td>\n",
              "      <td>15000</td>\n",
              "    </tr>\n",
              "    <tr>\n",
              "      <th>3</th>\n",
              "      <td>3</td>\n",
              "      <td>Samsung Galaxy A50 (White, 64 )</td>\n",
              "      <td>4.4</td>\n",
              "      <td>6.0</td>\n",
              "      <td>64.0</td>\n",
              "      <td>6.40</td>\n",
              "      <td>48</td>\n",
              "      <td>15.0</td>\n",
              "      <td>3800</td>\n",
              "      <td>18999</td>\n",
              "    </tr>\n",
              "    <tr>\n",
              "      <th>4</th>\n",
              "      <td>4</td>\n",
              "      <td>POCO F1 (Steel Blue, 128 )</td>\n",
              "      <td>4.5</td>\n",
              "      <td>6.0</td>\n",
              "      <td>128.0</td>\n",
              "      <td>6.18</td>\n",
              "      <td>35</td>\n",
              "      <td>15.0</td>\n",
              "      <td>3800</td>\n",
              "      <td>18999</td>\n",
              "    </tr>\n",
              "  </tbody>\n",
              "</table>\n",
              "</div>\n",
              "    <div class=\"colab-df-buttons\">\n",
              "\n",
              "  <div class=\"colab-df-container\">\n",
              "    <button class=\"colab-df-convert\" onclick=\"convertToInteractive('df-6c7b1705-19ff-4698-b305-58b8a7704245')\"\n",
              "            title=\"Convert this dataframe to an interactive table.\"\n",
              "            style=\"display:none;\">\n",
              "\n",
              "  <svg xmlns=\"http://www.w3.org/2000/svg\" height=\"24px\" viewBox=\"0 -960 960 960\">\n",
              "    <path d=\"M120-120v-720h720v720H120Zm60-500h600v-160H180v160Zm220 220h160v-160H400v160Zm0 220h160v-160H400v160ZM180-400h160v-160H180v160Zm440 0h160v-160H620v160ZM180-180h160v-160H180v160Zm440 0h160v-160H620v160Z\"/>\n",
              "  </svg>\n",
              "    </button>\n",
              "\n",
              "  <style>\n",
              "    .colab-df-container {\n",
              "      display:flex;\n",
              "      gap: 12px;\n",
              "    }\n",
              "\n",
              "    .colab-df-convert {\n",
              "      background-color: #E8F0FE;\n",
              "      border: none;\n",
              "      border-radius: 50%;\n",
              "      cursor: pointer;\n",
              "      display: none;\n",
              "      fill: #1967D2;\n",
              "      height: 32px;\n",
              "      padding: 0 0 0 0;\n",
              "      width: 32px;\n",
              "    }\n",
              "\n",
              "    .colab-df-convert:hover {\n",
              "      background-color: #E2EBFA;\n",
              "      box-shadow: 0px 1px 2px rgba(60, 64, 67, 0.3), 0px 1px 3px 1px rgba(60, 64, 67, 0.15);\n",
              "      fill: #174EA6;\n",
              "    }\n",
              "\n",
              "    .colab-df-buttons div {\n",
              "      margin-bottom: 4px;\n",
              "    }\n",
              "\n",
              "    [theme=dark] .colab-df-convert {\n",
              "      background-color: #3B4455;\n",
              "      fill: #D2E3FC;\n",
              "    }\n",
              "\n",
              "    [theme=dark] .colab-df-convert:hover {\n",
              "      background-color: #434B5C;\n",
              "      box-shadow: 0px 1px 3px 1px rgba(0, 0, 0, 0.15);\n",
              "      filter: drop-shadow(0px 1px 2px rgba(0, 0, 0, 0.3));\n",
              "      fill: #FFFFFF;\n",
              "    }\n",
              "  </style>\n",
              "\n",
              "    <script>\n",
              "      const buttonEl =\n",
              "        document.querySelector('#df-6c7b1705-19ff-4698-b305-58b8a7704245 button.colab-df-convert');\n",
              "      buttonEl.style.display =\n",
              "        google.colab.kernel.accessAllowed ? 'block' : 'none';\n",
              "\n",
              "      async function convertToInteractive(key) {\n",
              "        const element = document.querySelector('#df-6c7b1705-19ff-4698-b305-58b8a7704245');\n",
              "        const dataTable =\n",
              "          await google.colab.kernel.invokeFunction('convertToInteractive',\n",
              "                                                    [key], {});\n",
              "        if (!dataTable) return;\n",
              "\n",
              "        const docLinkHtml = 'Like what you see? Visit the ' +\n",
              "          '<a target=\"_blank\" href=https://colab.research.google.com/notebooks/data_table.ipynb>data table notebook</a>'\n",
              "          + ' to learn more about interactive tables.';\n",
              "        element.innerHTML = '';\n",
              "        dataTable['output_type'] = 'display_data';\n",
              "        await google.colab.output.renderOutput(dataTable, element);\n",
              "        const docLink = document.createElement('div');\n",
              "        docLink.innerHTML = docLinkHtml;\n",
              "        element.appendChild(docLink);\n",
              "      }\n",
              "    </script>\n",
              "  </div>\n",
              "\n",
              "\n",
              "<div id=\"df-11e5f0ae-aca2-47ab-bd6c-41a38cb32b10\">\n",
              "  <button class=\"colab-df-quickchart\" onclick=\"quickchart('df-11e5f0ae-aca2-47ab-bd6c-41a38cb32b10')\"\n",
              "            title=\"Suggest charts\"\n",
              "            style=\"display:none;\">\n",
              "\n",
              "<svg xmlns=\"http://www.w3.org/2000/svg\" height=\"24px\"viewBox=\"0 0 24 24\"\n",
              "     width=\"24px\">\n",
              "    <g>\n",
              "        <path d=\"M19 3H5c-1.1 0-2 .9-2 2v14c0 1.1.9 2 2 2h14c1.1 0 2-.9 2-2V5c0-1.1-.9-2-2-2zM9 17H7v-7h2v7zm4 0h-2V7h2v10zm4 0h-2v-4h2v4z\"/>\n",
              "    </g>\n",
              "</svg>\n",
              "  </button>\n",
              "\n",
              "<style>\n",
              "  .colab-df-quickchart {\n",
              "      --bg-color: #E8F0FE;\n",
              "      --fill-color: #1967D2;\n",
              "      --hover-bg-color: #E2EBFA;\n",
              "      --hover-fill-color: #174EA6;\n",
              "      --disabled-fill-color: #AAA;\n",
              "      --disabled-bg-color: #DDD;\n",
              "  }\n",
              "\n",
              "  [theme=dark] .colab-df-quickchart {\n",
              "      --bg-color: #3B4455;\n",
              "      --fill-color: #D2E3FC;\n",
              "      --hover-bg-color: #434B5C;\n",
              "      --hover-fill-color: #FFFFFF;\n",
              "      --disabled-bg-color: #3B4455;\n",
              "      --disabled-fill-color: #666;\n",
              "  }\n",
              "\n",
              "  .colab-df-quickchart {\n",
              "    background-color: var(--bg-color);\n",
              "    border: none;\n",
              "    border-radius: 50%;\n",
              "    cursor: pointer;\n",
              "    display: none;\n",
              "    fill: var(--fill-color);\n",
              "    height: 32px;\n",
              "    padding: 0;\n",
              "    width: 32px;\n",
              "  }\n",
              "\n",
              "  .colab-df-quickchart:hover {\n",
              "    background-color: var(--hover-bg-color);\n",
              "    box-shadow: 0 1px 2px rgba(60, 64, 67, 0.3), 0 1px 3px 1px rgba(60, 64, 67, 0.15);\n",
              "    fill: var(--button-hover-fill-color);\n",
              "  }\n",
              "\n",
              "  .colab-df-quickchart-complete:disabled,\n",
              "  .colab-df-quickchart-complete:disabled:hover {\n",
              "    background-color: var(--disabled-bg-color);\n",
              "    fill: var(--disabled-fill-color);\n",
              "    box-shadow: none;\n",
              "  }\n",
              "\n",
              "  .colab-df-spinner {\n",
              "    border: 2px solid var(--fill-color);\n",
              "    border-color: transparent;\n",
              "    border-bottom-color: var(--fill-color);\n",
              "    animation:\n",
              "      spin 1s steps(1) infinite;\n",
              "  }\n",
              "\n",
              "  @keyframes spin {\n",
              "    0% {\n",
              "      border-color: transparent;\n",
              "      border-bottom-color: var(--fill-color);\n",
              "      border-left-color: var(--fill-color);\n",
              "    }\n",
              "    20% {\n",
              "      border-color: transparent;\n",
              "      border-left-color: var(--fill-color);\n",
              "      border-top-color: var(--fill-color);\n",
              "    }\n",
              "    30% {\n",
              "      border-color: transparent;\n",
              "      border-left-color: var(--fill-color);\n",
              "      border-top-color: var(--fill-color);\n",
              "      border-right-color: var(--fill-color);\n",
              "    }\n",
              "    40% {\n",
              "      border-color: transparent;\n",
              "      border-right-color: var(--fill-color);\n",
              "      border-top-color: var(--fill-color);\n",
              "    }\n",
              "    60% {\n",
              "      border-color: transparent;\n",
              "      border-right-color: var(--fill-color);\n",
              "    }\n",
              "    80% {\n",
              "      border-color: transparent;\n",
              "      border-right-color: var(--fill-color);\n",
              "      border-bottom-color: var(--fill-color);\n",
              "    }\n",
              "    90% {\n",
              "      border-color: transparent;\n",
              "      border-bottom-color: var(--fill-color);\n",
              "    }\n",
              "  }\n",
              "</style>\n",
              "\n",
              "  <script>\n",
              "    async function quickchart(key) {\n",
              "      const quickchartButtonEl =\n",
              "        document.querySelector('#' + key + ' button');\n",
              "      quickchartButtonEl.disabled = true;  // To prevent multiple clicks.\n",
              "      quickchartButtonEl.classList.add('colab-df-spinner');\n",
              "      try {\n",
              "        const charts = await google.colab.kernel.invokeFunction(\n",
              "            'suggestCharts', [key], {});\n",
              "      } catch (error) {\n",
              "        console.error('Error during call to suggestCharts:', error);\n",
              "      }\n",
              "      quickchartButtonEl.classList.remove('colab-df-spinner');\n",
              "      quickchartButtonEl.classList.add('colab-df-quickchart-complete');\n",
              "    }\n",
              "    (() => {\n",
              "      let quickchartButtonEl =\n",
              "        document.querySelector('#df-11e5f0ae-aca2-47ab-bd6c-41a38cb32b10 button');\n",
              "      quickchartButtonEl.style.display =\n",
              "        google.colab.kernel.accessAllowed ? 'block' : 'none';\n",
              "    })();\n",
              "  </script>\n",
              "</div>\n",
              "\n",
              "    </div>\n",
              "  </div>\n"
            ],
            "application/vnd.google.colaboratory.intrinsic+json": {
              "type": "dataframe",
              "variable_name": "data",
              "summary": "{\n  \"name\": \"data\",\n  \"rows\": 836,\n  \"fields\": [\n    {\n      \"column\": \"Unnamed: 0\",\n      \"properties\": {\n        \"dtype\": \"number\",\n        \"std\": 241,\n        \"min\": 0,\n        \"max\": 835,\n        \"num_unique_values\": 836,\n        \"samples\": [\n          611,\n          823,\n          290\n        ],\n        \"semantic_type\": \"\",\n        \"description\": \"\"\n      }\n    },\n    {\n      \"column\": \"Brand me\",\n      \"properties\": {\n        \"dtype\": \"string\",\n        \"num_unique_values\": 427,\n        \"samples\": [\n          \"OnePlus 7 (Mirror Grey, 256 )\",\n          \"Redmi Note 7 Pro (Neptune Blue, 128 )\",\n          \"Vivo V17Pro (Glacier Ice White, 128 )\"\n        ],\n        \"semantic_type\": \"\",\n        \"description\": \"\"\n      }\n    },\n    {\n      \"column\": \"Ratings\",\n      \"properties\": {\n        \"dtype\": \"number\",\n        \"std\": 0.3653564946598119,\n        \"min\": 2.8,\n        \"max\": 4.8,\n        \"num_unique_values\": 20,\n        \"samples\": [\n          4.3,\n          3.1,\n          3.3\n        ],\n        \"semantic_type\": \"\",\n        \"description\": \"\"\n      }\n    },\n    {\n      \"column\": \"RAM\",\n      \"properties\": {\n        \"dtype\": \"number\",\n        \"std\": 2.5303355225505064,\n        \"min\": 0.0,\n        \"max\": 34.0,\n        \"num_unique_values\": 13,\n        \"samples\": [\n          30.0,\n          25.0,\n          4.0\n        ],\n        \"semantic_type\": \"\",\n        \"description\": \"\"\n      }\n    },\n    {\n      \"column\": \"ROM\",\n      \"properties\": {\n        \"dtype\": \"number\",\n        \"std\": 53.447824878694796,\n        \"min\": 0.0,\n        \"max\": 256.0,\n        \"num_unique_values\": 22,\n        \"samples\": [\n          128.0,\n          22.0,\n          56.0\n        ],\n        \"semantic_type\": \"\",\n        \"description\": \"\"\n      }\n    },\n    {\n      \"column\": \"Mobile_Size\",\n      \"properties\": {\n        \"dtype\": \"number\",\n        \"std\": 3.8986644597820286,\n        \"min\": 2.0,\n        \"max\": 44.0,\n        \"num_unique_values\": 47,\n        \"samples\": [\n          4.57,\n          6.6,\n          4.58\n        ],\n        \"semantic_type\": \"\",\n        \"description\": \"\"\n      }\n    },\n    {\n      \"column\": \"Primary_Cam\",\n      \"properties\": {\n        \"dtype\": \"number\",\n        \"std\": 11,\n        \"min\": 5,\n        \"max\": 64,\n        \"num_unique_values\": 11,\n        \"samples\": [\n          25,\n          48,\n          16\n        ],\n        \"semantic_type\": \"\",\n        \"description\": \"\"\n      }\n    },\n    {\n      \"column\": \"Selfi_Cam\",\n      \"properties\": {\n        \"dtype\": \"number\",\n        \"std\": 6.503838165404479,\n        \"min\": 0.0,\n        \"max\": 61.0,\n        \"num_unique_values\": 23,\n        \"samples\": [\n          17.0,\n          32.0,\n          13.0\n        ],\n        \"semantic_type\": \"\",\n        \"description\": \"\"\n      }\n    },\n    {\n      \"column\": \"Battery_Power\",\n      \"properties\": {\n        \"dtype\": \"number\",\n        \"std\": 927,\n        \"min\": 1020,\n        \"max\": 6000,\n        \"num_unique_values\": 49,\n        \"samples\": [\n          4010,\n          3400,\n          4780\n        ],\n        \"semantic_type\": \"\",\n        \"description\": \"\"\n      }\n    },\n    {\n      \"column\": \"Price\",\n      \"properties\": {\n        \"dtype\": \"number\",\n        \"std\": 52805,\n        \"min\": 479,\n        \"max\": 573000,\n        \"num_unique_values\": 253,\n        \"samples\": [\n          1619,\n          47999,\n          559\n        ],\n        \"semantic_type\": \"\",\n        \"description\": \"\"\n      }\n    }\n  ]\n}"
            }
          },
          "metadata": {},
          "execution_count": 695
        }
      ],
      "source": [
        "data.head()"
      ]
    },
    {
      "cell_type": "code",
      "execution_count": null,
      "metadata": {
        "id": "ABL6R5RmrGzG",
        "colab": {
          "base_uri": "https://localhost:8080/",
          "height": 206
        },
        "outputId": "10e867e8-51d0-45a1-fb6b-3b55a23151cb"
      },
      "outputs": [
        {
          "output_type": "execute_result",
          "data": {
            "text/plain": [
              "     Unnamed: 0                         Brand me  Ratings   RAM   ROM  \\\n",
              "831         831             Karbonn K24 Plus Pro      3.8   6.0  32.0   \n",
              "832         832                  InFocus POWER 2      4.1   8.0  64.0   \n",
              "833         833  Alcatel 5V (Spectrum Blue, 32 )      4.4   3.0  32.0   \n",
              "834         834                      JIVI JV 12M      3.7  10.0  32.0   \n",
              "835         835                  Blacear B5 Grip      3.5   6.0  32.0   \n",
              "\n",
              "     Mobile_Size  Primary_Cam  Selfi_Cam  Battery_Power  Price  \n",
              "831         4.54           48       12.0           2800   1299  \n",
              "832         4.54           64        NaN           2500   1390  \n",
              "833         6.20           48        1.0           3800   9790  \n",
              "834         4.50           64        NaN           3500    799  \n",
              "835         4.50           64       15.0           1050    799  "
            ],
            "text/html": [
              "\n",
              "  <div id=\"df-58f7bdee-fc7a-4369-a518-912844efa3fb\" class=\"colab-df-container\">\n",
              "    <div>\n",
              "<style scoped>\n",
              "    .dataframe tbody tr th:only-of-type {\n",
              "        vertical-align: middle;\n",
              "    }\n",
              "\n",
              "    .dataframe tbody tr th {\n",
              "        vertical-align: top;\n",
              "    }\n",
              "\n",
              "    .dataframe thead th {\n",
              "        text-align: right;\n",
              "    }\n",
              "</style>\n",
              "<table border=\"1\" class=\"dataframe\">\n",
              "  <thead>\n",
              "    <tr style=\"text-align: right;\">\n",
              "      <th></th>\n",
              "      <th>Unnamed: 0</th>\n",
              "      <th>Brand me</th>\n",
              "      <th>Ratings</th>\n",
              "      <th>RAM</th>\n",
              "      <th>ROM</th>\n",
              "      <th>Mobile_Size</th>\n",
              "      <th>Primary_Cam</th>\n",
              "      <th>Selfi_Cam</th>\n",
              "      <th>Battery_Power</th>\n",
              "      <th>Price</th>\n",
              "    </tr>\n",
              "  </thead>\n",
              "  <tbody>\n",
              "    <tr>\n",
              "      <th>831</th>\n",
              "      <td>831</td>\n",
              "      <td>Karbonn K24 Plus Pro</td>\n",
              "      <td>3.8</td>\n",
              "      <td>6.0</td>\n",
              "      <td>32.0</td>\n",
              "      <td>4.54</td>\n",
              "      <td>48</td>\n",
              "      <td>12.0</td>\n",
              "      <td>2800</td>\n",
              "      <td>1299</td>\n",
              "    </tr>\n",
              "    <tr>\n",
              "      <th>832</th>\n",
              "      <td>832</td>\n",
              "      <td>InFocus POWER 2</td>\n",
              "      <td>4.1</td>\n",
              "      <td>8.0</td>\n",
              "      <td>64.0</td>\n",
              "      <td>4.54</td>\n",
              "      <td>64</td>\n",
              "      <td>NaN</td>\n",
              "      <td>2500</td>\n",
              "      <td>1390</td>\n",
              "    </tr>\n",
              "    <tr>\n",
              "      <th>833</th>\n",
              "      <td>833</td>\n",
              "      <td>Alcatel 5V (Spectrum Blue, 32 )</td>\n",
              "      <td>4.4</td>\n",
              "      <td>3.0</td>\n",
              "      <td>32.0</td>\n",
              "      <td>6.20</td>\n",
              "      <td>48</td>\n",
              "      <td>1.0</td>\n",
              "      <td>3800</td>\n",
              "      <td>9790</td>\n",
              "    </tr>\n",
              "    <tr>\n",
              "      <th>834</th>\n",
              "      <td>834</td>\n",
              "      <td>JIVI JV 12M</td>\n",
              "      <td>3.7</td>\n",
              "      <td>10.0</td>\n",
              "      <td>32.0</td>\n",
              "      <td>4.50</td>\n",
              "      <td>64</td>\n",
              "      <td>NaN</td>\n",
              "      <td>3500</td>\n",
              "      <td>799</td>\n",
              "    </tr>\n",
              "    <tr>\n",
              "      <th>835</th>\n",
              "      <td>835</td>\n",
              "      <td>Blacear B5 Grip</td>\n",
              "      <td>3.5</td>\n",
              "      <td>6.0</td>\n",
              "      <td>32.0</td>\n",
              "      <td>4.50</td>\n",
              "      <td>64</td>\n",
              "      <td>15.0</td>\n",
              "      <td>1050</td>\n",
              "      <td>799</td>\n",
              "    </tr>\n",
              "  </tbody>\n",
              "</table>\n",
              "</div>\n",
              "    <div class=\"colab-df-buttons\">\n",
              "\n",
              "  <div class=\"colab-df-container\">\n",
              "    <button class=\"colab-df-convert\" onclick=\"convertToInteractive('df-58f7bdee-fc7a-4369-a518-912844efa3fb')\"\n",
              "            title=\"Convert this dataframe to an interactive table.\"\n",
              "            style=\"display:none;\">\n",
              "\n",
              "  <svg xmlns=\"http://www.w3.org/2000/svg\" height=\"24px\" viewBox=\"0 -960 960 960\">\n",
              "    <path d=\"M120-120v-720h720v720H120Zm60-500h600v-160H180v160Zm220 220h160v-160H400v160Zm0 220h160v-160H400v160ZM180-400h160v-160H180v160Zm440 0h160v-160H620v160ZM180-180h160v-160H180v160Zm440 0h160v-160H620v160Z\"/>\n",
              "  </svg>\n",
              "    </button>\n",
              "\n",
              "  <style>\n",
              "    .colab-df-container {\n",
              "      display:flex;\n",
              "      gap: 12px;\n",
              "    }\n",
              "\n",
              "    .colab-df-convert {\n",
              "      background-color: #E8F0FE;\n",
              "      border: none;\n",
              "      border-radius: 50%;\n",
              "      cursor: pointer;\n",
              "      display: none;\n",
              "      fill: #1967D2;\n",
              "      height: 32px;\n",
              "      padding: 0 0 0 0;\n",
              "      width: 32px;\n",
              "    }\n",
              "\n",
              "    .colab-df-convert:hover {\n",
              "      background-color: #E2EBFA;\n",
              "      box-shadow: 0px 1px 2px rgba(60, 64, 67, 0.3), 0px 1px 3px 1px rgba(60, 64, 67, 0.15);\n",
              "      fill: #174EA6;\n",
              "    }\n",
              "\n",
              "    .colab-df-buttons div {\n",
              "      margin-bottom: 4px;\n",
              "    }\n",
              "\n",
              "    [theme=dark] .colab-df-convert {\n",
              "      background-color: #3B4455;\n",
              "      fill: #D2E3FC;\n",
              "    }\n",
              "\n",
              "    [theme=dark] .colab-df-convert:hover {\n",
              "      background-color: #434B5C;\n",
              "      box-shadow: 0px 1px 3px 1px rgba(0, 0, 0, 0.15);\n",
              "      filter: drop-shadow(0px 1px 2px rgba(0, 0, 0, 0.3));\n",
              "      fill: #FFFFFF;\n",
              "    }\n",
              "  </style>\n",
              "\n",
              "    <script>\n",
              "      const buttonEl =\n",
              "        document.querySelector('#df-58f7bdee-fc7a-4369-a518-912844efa3fb button.colab-df-convert');\n",
              "      buttonEl.style.display =\n",
              "        google.colab.kernel.accessAllowed ? 'block' : 'none';\n",
              "\n",
              "      async function convertToInteractive(key) {\n",
              "        const element = document.querySelector('#df-58f7bdee-fc7a-4369-a518-912844efa3fb');\n",
              "        const dataTable =\n",
              "          await google.colab.kernel.invokeFunction('convertToInteractive',\n",
              "                                                    [key], {});\n",
              "        if (!dataTable) return;\n",
              "\n",
              "        const docLinkHtml = 'Like what you see? Visit the ' +\n",
              "          '<a target=\"_blank\" href=https://colab.research.google.com/notebooks/data_table.ipynb>data table notebook</a>'\n",
              "          + ' to learn more about interactive tables.';\n",
              "        element.innerHTML = '';\n",
              "        dataTable['output_type'] = 'display_data';\n",
              "        await google.colab.output.renderOutput(dataTable, element);\n",
              "        const docLink = document.createElement('div');\n",
              "        docLink.innerHTML = docLinkHtml;\n",
              "        element.appendChild(docLink);\n",
              "      }\n",
              "    </script>\n",
              "  </div>\n",
              "\n",
              "\n",
              "<div id=\"df-da53fc5f-e510-4e2a-986d-c313e37358d8\">\n",
              "  <button class=\"colab-df-quickchart\" onclick=\"quickchart('df-da53fc5f-e510-4e2a-986d-c313e37358d8')\"\n",
              "            title=\"Suggest charts\"\n",
              "            style=\"display:none;\">\n",
              "\n",
              "<svg xmlns=\"http://www.w3.org/2000/svg\" height=\"24px\"viewBox=\"0 0 24 24\"\n",
              "     width=\"24px\">\n",
              "    <g>\n",
              "        <path d=\"M19 3H5c-1.1 0-2 .9-2 2v14c0 1.1.9 2 2 2h14c1.1 0 2-.9 2-2V5c0-1.1-.9-2-2-2zM9 17H7v-7h2v7zm4 0h-2V7h2v10zm4 0h-2v-4h2v4z\"/>\n",
              "    </g>\n",
              "</svg>\n",
              "  </button>\n",
              "\n",
              "<style>\n",
              "  .colab-df-quickchart {\n",
              "      --bg-color: #E8F0FE;\n",
              "      --fill-color: #1967D2;\n",
              "      --hover-bg-color: #E2EBFA;\n",
              "      --hover-fill-color: #174EA6;\n",
              "      --disabled-fill-color: #AAA;\n",
              "      --disabled-bg-color: #DDD;\n",
              "  }\n",
              "\n",
              "  [theme=dark] .colab-df-quickchart {\n",
              "      --bg-color: #3B4455;\n",
              "      --fill-color: #D2E3FC;\n",
              "      --hover-bg-color: #434B5C;\n",
              "      --hover-fill-color: #FFFFFF;\n",
              "      --disabled-bg-color: #3B4455;\n",
              "      --disabled-fill-color: #666;\n",
              "  }\n",
              "\n",
              "  .colab-df-quickchart {\n",
              "    background-color: var(--bg-color);\n",
              "    border: none;\n",
              "    border-radius: 50%;\n",
              "    cursor: pointer;\n",
              "    display: none;\n",
              "    fill: var(--fill-color);\n",
              "    height: 32px;\n",
              "    padding: 0;\n",
              "    width: 32px;\n",
              "  }\n",
              "\n",
              "  .colab-df-quickchart:hover {\n",
              "    background-color: var(--hover-bg-color);\n",
              "    box-shadow: 0 1px 2px rgba(60, 64, 67, 0.3), 0 1px 3px 1px rgba(60, 64, 67, 0.15);\n",
              "    fill: var(--button-hover-fill-color);\n",
              "  }\n",
              "\n",
              "  .colab-df-quickchart-complete:disabled,\n",
              "  .colab-df-quickchart-complete:disabled:hover {\n",
              "    background-color: var(--disabled-bg-color);\n",
              "    fill: var(--disabled-fill-color);\n",
              "    box-shadow: none;\n",
              "  }\n",
              "\n",
              "  .colab-df-spinner {\n",
              "    border: 2px solid var(--fill-color);\n",
              "    border-color: transparent;\n",
              "    border-bottom-color: var(--fill-color);\n",
              "    animation:\n",
              "      spin 1s steps(1) infinite;\n",
              "  }\n",
              "\n",
              "  @keyframes spin {\n",
              "    0% {\n",
              "      border-color: transparent;\n",
              "      border-bottom-color: var(--fill-color);\n",
              "      border-left-color: var(--fill-color);\n",
              "    }\n",
              "    20% {\n",
              "      border-color: transparent;\n",
              "      border-left-color: var(--fill-color);\n",
              "      border-top-color: var(--fill-color);\n",
              "    }\n",
              "    30% {\n",
              "      border-color: transparent;\n",
              "      border-left-color: var(--fill-color);\n",
              "      border-top-color: var(--fill-color);\n",
              "      border-right-color: var(--fill-color);\n",
              "    }\n",
              "    40% {\n",
              "      border-color: transparent;\n",
              "      border-right-color: var(--fill-color);\n",
              "      border-top-color: var(--fill-color);\n",
              "    }\n",
              "    60% {\n",
              "      border-color: transparent;\n",
              "      border-right-color: var(--fill-color);\n",
              "    }\n",
              "    80% {\n",
              "      border-color: transparent;\n",
              "      border-right-color: var(--fill-color);\n",
              "      border-bottom-color: var(--fill-color);\n",
              "    }\n",
              "    90% {\n",
              "      border-color: transparent;\n",
              "      border-bottom-color: var(--fill-color);\n",
              "    }\n",
              "  }\n",
              "</style>\n",
              "\n",
              "  <script>\n",
              "    async function quickchart(key) {\n",
              "      const quickchartButtonEl =\n",
              "        document.querySelector('#' + key + ' button');\n",
              "      quickchartButtonEl.disabled = true;  // To prevent multiple clicks.\n",
              "      quickchartButtonEl.classList.add('colab-df-spinner');\n",
              "      try {\n",
              "        const charts = await google.colab.kernel.invokeFunction(\n",
              "            'suggestCharts', [key], {});\n",
              "      } catch (error) {\n",
              "        console.error('Error during call to suggestCharts:', error);\n",
              "      }\n",
              "      quickchartButtonEl.classList.remove('colab-df-spinner');\n",
              "      quickchartButtonEl.classList.add('colab-df-quickchart-complete');\n",
              "    }\n",
              "    (() => {\n",
              "      let quickchartButtonEl =\n",
              "        document.querySelector('#df-da53fc5f-e510-4e2a-986d-c313e37358d8 button');\n",
              "      quickchartButtonEl.style.display =\n",
              "        google.colab.kernel.accessAllowed ? 'block' : 'none';\n",
              "    })();\n",
              "  </script>\n",
              "</div>\n",
              "\n",
              "    </div>\n",
              "  </div>\n"
            ],
            "application/vnd.google.colaboratory.intrinsic+json": {
              "type": "dataframe",
              "summary": "{\n  \"name\": \"data\",\n  \"rows\": 5,\n  \"fields\": [\n    {\n      \"column\": \"Unnamed: 0\",\n      \"properties\": {\n        \"dtype\": \"number\",\n        \"std\": 1,\n        \"min\": 831,\n        \"max\": 835,\n        \"num_unique_values\": 5,\n        \"samples\": [\n          832,\n          835,\n          833\n        ],\n        \"semantic_type\": \"\",\n        \"description\": \"\"\n      }\n    },\n    {\n      \"column\": \"Brand me\",\n      \"properties\": {\n        \"dtype\": \"string\",\n        \"num_unique_values\": 5,\n        \"samples\": [\n          \"InFocus POWER 2\",\n          \"Blacear B5 Grip\",\n          \"Alcatel 5V (Spectrum Blue, 32 )\"\n        ],\n        \"semantic_type\": \"\",\n        \"description\": \"\"\n      }\n    },\n    {\n      \"column\": \"Ratings\",\n      \"properties\": {\n        \"dtype\": \"number\",\n        \"std\": 0.35355339059327384,\n        \"min\": 3.5,\n        \"max\": 4.4,\n        \"num_unique_values\": 5,\n        \"samples\": [\n          4.1,\n          3.5,\n          4.4\n        ],\n        \"semantic_type\": \"\",\n        \"description\": \"\"\n      }\n    },\n    {\n      \"column\": \"RAM\",\n      \"properties\": {\n        \"dtype\": \"number\",\n        \"std\": 2.6076809620810595,\n        \"min\": 3.0,\n        \"max\": 10.0,\n        \"num_unique_values\": 4,\n        \"samples\": [\n          8.0,\n          10.0,\n          6.0\n        ],\n        \"semantic_type\": \"\",\n        \"description\": \"\"\n      }\n    },\n    {\n      \"column\": \"ROM\",\n      \"properties\": {\n        \"dtype\": \"number\",\n        \"std\": 14.310835055998657,\n        \"min\": 32.0,\n        \"max\": 64.0,\n        \"num_unique_values\": 2,\n        \"samples\": [\n          64.0,\n          32.0\n        ],\n        \"semantic_type\": \"\",\n        \"description\": \"\"\n      }\n    },\n    {\n      \"column\": \"Mobile_Size\",\n      \"properties\": {\n        \"dtype\": \"number\",\n        \"std\": 0.7515849918671873,\n        \"min\": 4.5,\n        \"max\": 6.2,\n        \"num_unique_values\": 3,\n        \"samples\": [\n          4.54,\n          6.2\n        ],\n        \"semantic_type\": \"\",\n        \"description\": \"\"\n      }\n    },\n    {\n      \"column\": \"Primary_Cam\",\n      \"properties\": {\n        \"dtype\": \"number\",\n        \"std\": 8,\n        \"min\": 48,\n        \"max\": 64,\n        \"num_unique_values\": 2,\n        \"samples\": [\n          64,\n          48\n        ],\n        \"semantic_type\": \"\",\n        \"description\": \"\"\n      }\n    },\n    {\n      \"column\": \"Selfi_Cam\",\n      \"properties\": {\n        \"dtype\": \"number\",\n        \"std\": 7.3711147958319945,\n        \"min\": 1.0,\n        \"max\": 15.0,\n        \"num_unique_values\": 3,\n        \"samples\": [\n          12.0,\n          1.0\n        ],\n        \"semantic_type\": \"\",\n        \"description\": \"\"\n      }\n    },\n    {\n      \"column\": \"Battery_Power\",\n      \"properties\": {\n        \"dtype\": \"number\",\n        \"std\": 1074,\n        \"min\": 1050,\n        \"max\": 3800,\n        \"num_unique_values\": 5,\n        \"samples\": [\n          2500,\n          1050\n        ],\n        \"semantic_type\": \"\",\n        \"description\": \"\"\n      }\n    },\n    {\n      \"column\": \"Price\",\n      \"properties\": {\n        \"dtype\": \"number\",\n        \"std\": 3908,\n        \"min\": 799,\n        \"max\": 9790,\n        \"num_unique_values\": 4,\n        \"samples\": [\n          1390,\n          799\n        ],\n        \"semantic_type\": \"\",\n        \"description\": \"\"\n      }\n    }\n  ]\n}"
            }
          },
          "metadata": {},
          "execution_count": 696
        }
      ],
      "source": [
        "data.tail()"
      ]
    },
    {
      "cell_type": "code",
      "execution_count": null,
      "metadata": {
        "id": "ZsGKUTmcrbar",
        "colab": {
          "base_uri": "https://localhost:8080/"
        },
        "outputId": "c487b881-f0b3-4046-bfab-9368034b4437"
      },
      "outputs": [
        {
          "output_type": "execute_result",
          "data": {
            "text/plain": [
              "(836, 10)"
            ]
          },
          "metadata": {},
          "execution_count": 697
        }
      ],
      "source": [
        "data.shape"
      ]
    },
    {
      "cell_type": "code",
      "execution_count": null,
      "metadata": {
        "id": "mruxXHxeu9Va",
        "colab": {
          "base_uri": "https://localhost:8080/"
        },
        "outputId": "37ece3da-7295-4b0e-f9e6-7a09afb5a985"
      },
      "outputs": [
        {
          "output_type": "execute_result",
          "data": {
            "text/plain": [
              "Index(['Unnamed: 0', 'Brand me', 'Ratings', 'RAM', 'ROM', 'Mobile_Size',\n",
              "       'Primary_Cam', 'Selfi_Cam', 'Battery_Power', 'Price'],\n",
              "      dtype='object')"
            ]
          },
          "metadata": {},
          "execution_count": 698
        }
      ],
      "source": [
        "data.columns"
      ]
    },
    {
      "cell_type": "code",
      "execution_count": null,
      "metadata": {
        "id": "32WXTO_AvGcc",
        "colab": {
          "base_uri": "https://localhost:8080/",
          "height": 300
        },
        "outputId": "c6544b0c-aee2-4280-cae8-12c30c7f9352"
      },
      "outputs": [
        {
          "output_type": "execute_result",
          "data": {
            "text/plain": [
              "       Unnamed: 0     Ratings         RAM         ROM  Mobile_Size  \\\n",
              "count  836.000000  805.000000  829.000000  832.000000   834.000000   \n",
              "mean   417.500000    4.103106    6.066345   64.373077     5.597282   \n",
              "std    241.476707    0.365356    2.530336   53.447825     3.898664   \n",
              "min      0.000000    2.800000    0.000000    0.000000     2.000000   \n",
              "25%    208.750000    3.800000    6.000000   32.000000     4.500000   \n",
              "50%    417.500000    4.100000    6.000000   40.000000     4.770000   \n",
              "75%    626.250000    4.400000    6.000000   64.000000     6.300000   \n",
              "max    835.000000    4.800000   34.000000  256.000000    44.000000   \n",
              "\n",
              "       Primary_Cam   Selfi_Cam  Battery_Power         Price  \n",
              "count   836.000000  567.000000     836.000000     836.00000  \n",
              "mean     47.983254    9.784832    3274.688995   18220.34689  \n",
              "std      11.170093    6.503838     927.518852   52805.55022  \n",
              "min       5.000000    0.000000    1020.000000     479.00000  \n",
              "25%      48.000000    5.000000    3000.000000     984.75000  \n",
              "50%      48.000000    8.000000    3000.000000    1697.00000  \n",
              "75%      48.000000   13.000000    3800.000000   18999.00000  \n",
              "max      64.000000   61.000000    6000.000000  573000.00000  "
            ],
            "text/html": [
              "\n",
              "  <div id=\"df-a80d377e-5129-402d-9474-a4781559c402\" class=\"colab-df-container\">\n",
              "    <div>\n",
              "<style scoped>\n",
              "    .dataframe tbody tr th:only-of-type {\n",
              "        vertical-align: middle;\n",
              "    }\n",
              "\n",
              "    .dataframe tbody tr th {\n",
              "        vertical-align: top;\n",
              "    }\n",
              "\n",
              "    .dataframe thead th {\n",
              "        text-align: right;\n",
              "    }\n",
              "</style>\n",
              "<table border=\"1\" class=\"dataframe\">\n",
              "  <thead>\n",
              "    <tr style=\"text-align: right;\">\n",
              "      <th></th>\n",
              "      <th>Unnamed: 0</th>\n",
              "      <th>Ratings</th>\n",
              "      <th>RAM</th>\n",
              "      <th>ROM</th>\n",
              "      <th>Mobile_Size</th>\n",
              "      <th>Primary_Cam</th>\n",
              "      <th>Selfi_Cam</th>\n",
              "      <th>Battery_Power</th>\n",
              "      <th>Price</th>\n",
              "    </tr>\n",
              "  </thead>\n",
              "  <tbody>\n",
              "    <tr>\n",
              "      <th>count</th>\n",
              "      <td>836.000000</td>\n",
              "      <td>805.000000</td>\n",
              "      <td>829.000000</td>\n",
              "      <td>832.000000</td>\n",
              "      <td>834.000000</td>\n",
              "      <td>836.000000</td>\n",
              "      <td>567.000000</td>\n",
              "      <td>836.000000</td>\n",
              "      <td>836.00000</td>\n",
              "    </tr>\n",
              "    <tr>\n",
              "      <th>mean</th>\n",
              "      <td>417.500000</td>\n",
              "      <td>4.103106</td>\n",
              "      <td>6.066345</td>\n",
              "      <td>64.373077</td>\n",
              "      <td>5.597282</td>\n",
              "      <td>47.983254</td>\n",
              "      <td>9.784832</td>\n",
              "      <td>3274.688995</td>\n",
              "      <td>18220.34689</td>\n",
              "    </tr>\n",
              "    <tr>\n",
              "      <th>std</th>\n",
              "      <td>241.476707</td>\n",
              "      <td>0.365356</td>\n",
              "      <td>2.530336</td>\n",
              "      <td>53.447825</td>\n",
              "      <td>3.898664</td>\n",
              "      <td>11.170093</td>\n",
              "      <td>6.503838</td>\n",
              "      <td>927.518852</td>\n",
              "      <td>52805.55022</td>\n",
              "    </tr>\n",
              "    <tr>\n",
              "      <th>min</th>\n",
              "      <td>0.000000</td>\n",
              "      <td>2.800000</td>\n",
              "      <td>0.000000</td>\n",
              "      <td>0.000000</td>\n",
              "      <td>2.000000</td>\n",
              "      <td>5.000000</td>\n",
              "      <td>0.000000</td>\n",
              "      <td>1020.000000</td>\n",
              "      <td>479.00000</td>\n",
              "    </tr>\n",
              "    <tr>\n",
              "      <th>25%</th>\n",
              "      <td>208.750000</td>\n",
              "      <td>3.800000</td>\n",
              "      <td>6.000000</td>\n",
              "      <td>32.000000</td>\n",
              "      <td>4.500000</td>\n",
              "      <td>48.000000</td>\n",
              "      <td>5.000000</td>\n",
              "      <td>3000.000000</td>\n",
              "      <td>984.75000</td>\n",
              "    </tr>\n",
              "    <tr>\n",
              "      <th>50%</th>\n",
              "      <td>417.500000</td>\n",
              "      <td>4.100000</td>\n",
              "      <td>6.000000</td>\n",
              "      <td>40.000000</td>\n",
              "      <td>4.770000</td>\n",
              "      <td>48.000000</td>\n",
              "      <td>8.000000</td>\n",
              "      <td>3000.000000</td>\n",
              "      <td>1697.00000</td>\n",
              "    </tr>\n",
              "    <tr>\n",
              "      <th>75%</th>\n",
              "      <td>626.250000</td>\n",
              "      <td>4.400000</td>\n",
              "      <td>6.000000</td>\n",
              "      <td>64.000000</td>\n",
              "      <td>6.300000</td>\n",
              "      <td>48.000000</td>\n",
              "      <td>13.000000</td>\n",
              "      <td>3800.000000</td>\n",
              "      <td>18999.00000</td>\n",
              "    </tr>\n",
              "    <tr>\n",
              "      <th>max</th>\n",
              "      <td>835.000000</td>\n",
              "      <td>4.800000</td>\n",
              "      <td>34.000000</td>\n",
              "      <td>256.000000</td>\n",
              "      <td>44.000000</td>\n",
              "      <td>64.000000</td>\n",
              "      <td>61.000000</td>\n",
              "      <td>6000.000000</td>\n",
              "      <td>573000.00000</td>\n",
              "    </tr>\n",
              "  </tbody>\n",
              "</table>\n",
              "</div>\n",
              "    <div class=\"colab-df-buttons\">\n",
              "\n",
              "  <div class=\"colab-df-container\">\n",
              "    <button class=\"colab-df-convert\" onclick=\"convertToInteractive('df-a80d377e-5129-402d-9474-a4781559c402')\"\n",
              "            title=\"Convert this dataframe to an interactive table.\"\n",
              "            style=\"display:none;\">\n",
              "\n",
              "  <svg xmlns=\"http://www.w3.org/2000/svg\" height=\"24px\" viewBox=\"0 -960 960 960\">\n",
              "    <path d=\"M120-120v-720h720v720H120Zm60-500h600v-160H180v160Zm220 220h160v-160H400v160Zm0 220h160v-160H400v160ZM180-400h160v-160H180v160Zm440 0h160v-160H620v160ZM180-180h160v-160H180v160Zm440 0h160v-160H620v160Z\"/>\n",
              "  </svg>\n",
              "    </button>\n",
              "\n",
              "  <style>\n",
              "    .colab-df-container {\n",
              "      display:flex;\n",
              "      gap: 12px;\n",
              "    }\n",
              "\n",
              "    .colab-df-convert {\n",
              "      background-color: #E8F0FE;\n",
              "      border: none;\n",
              "      border-radius: 50%;\n",
              "      cursor: pointer;\n",
              "      display: none;\n",
              "      fill: #1967D2;\n",
              "      height: 32px;\n",
              "      padding: 0 0 0 0;\n",
              "      width: 32px;\n",
              "    }\n",
              "\n",
              "    .colab-df-convert:hover {\n",
              "      background-color: #E2EBFA;\n",
              "      box-shadow: 0px 1px 2px rgba(60, 64, 67, 0.3), 0px 1px 3px 1px rgba(60, 64, 67, 0.15);\n",
              "      fill: #174EA6;\n",
              "    }\n",
              "\n",
              "    .colab-df-buttons div {\n",
              "      margin-bottom: 4px;\n",
              "    }\n",
              "\n",
              "    [theme=dark] .colab-df-convert {\n",
              "      background-color: #3B4455;\n",
              "      fill: #D2E3FC;\n",
              "    }\n",
              "\n",
              "    [theme=dark] .colab-df-convert:hover {\n",
              "      background-color: #434B5C;\n",
              "      box-shadow: 0px 1px 3px 1px rgba(0, 0, 0, 0.15);\n",
              "      filter: drop-shadow(0px 1px 2px rgba(0, 0, 0, 0.3));\n",
              "      fill: #FFFFFF;\n",
              "    }\n",
              "  </style>\n",
              "\n",
              "    <script>\n",
              "      const buttonEl =\n",
              "        document.querySelector('#df-a80d377e-5129-402d-9474-a4781559c402 button.colab-df-convert');\n",
              "      buttonEl.style.display =\n",
              "        google.colab.kernel.accessAllowed ? 'block' : 'none';\n",
              "\n",
              "      async function convertToInteractive(key) {\n",
              "        const element = document.querySelector('#df-a80d377e-5129-402d-9474-a4781559c402');\n",
              "        const dataTable =\n",
              "          await google.colab.kernel.invokeFunction('convertToInteractive',\n",
              "                                                    [key], {});\n",
              "        if (!dataTable) return;\n",
              "\n",
              "        const docLinkHtml = 'Like what you see? Visit the ' +\n",
              "          '<a target=\"_blank\" href=https://colab.research.google.com/notebooks/data_table.ipynb>data table notebook</a>'\n",
              "          + ' to learn more about interactive tables.';\n",
              "        element.innerHTML = '';\n",
              "        dataTable['output_type'] = 'display_data';\n",
              "        await google.colab.output.renderOutput(dataTable, element);\n",
              "        const docLink = document.createElement('div');\n",
              "        docLink.innerHTML = docLinkHtml;\n",
              "        element.appendChild(docLink);\n",
              "      }\n",
              "    </script>\n",
              "  </div>\n",
              "\n",
              "\n",
              "<div id=\"df-9df25108-0d09-4571-afba-00ff24441436\">\n",
              "  <button class=\"colab-df-quickchart\" onclick=\"quickchart('df-9df25108-0d09-4571-afba-00ff24441436')\"\n",
              "            title=\"Suggest charts\"\n",
              "            style=\"display:none;\">\n",
              "\n",
              "<svg xmlns=\"http://www.w3.org/2000/svg\" height=\"24px\"viewBox=\"0 0 24 24\"\n",
              "     width=\"24px\">\n",
              "    <g>\n",
              "        <path d=\"M19 3H5c-1.1 0-2 .9-2 2v14c0 1.1.9 2 2 2h14c1.1 0 2-.9 2-2V5c0-1.1-.9-2-2-2zM9 17H7v-7h2v7zm4 0h-2V7h2v10zm4 0h-2v-4h2v4z\"/>\n",
              "    </g>\n",
              "</svg>\n",
              "  </button>\n",
              "\n",
              "<style>\n",
              "  .colab-df-quickchart {\n",
              "      --bg-color: #E8F0FE;\n",
              "      --fill-color: #1967D2;\n",
              "      --hover-bg-color: #E2EBFA;\n",
              "      --hover-fill-color: #174EA6;\n",
              "      --disabled-fill-color: #AAA;\n",
              "      --disabled-bg-color: #DDD;\n",
              "  }\n",
              "\n",
              "  [theme=dark] .colab-df-quickchart {\n",
              "      --bg-color: #3B4455;\n",
              "      --fill-color: #D2E3FC;\n",
              "      --hover-bg-color: #434B5C;\n",
              "      --hover-fill-color: #FFFFFF;\n",
              "      --disabled-bg-color: #3B4455;\n",
              "      --disabled-fill-color: #666;\n",
              "  }\n",
              "\n",
              "  .colab-df-quickchart {\n",
              "    background-color: var(--bg-color);\n",
              "    border: none;\n",
              "    border-radius: 50%;\n",
              "    cursor: pointer;\n",
              "    display: none;\n",
              "    fill: var(--fill-color);\n",
              "    height: 32px;\n",
              "    padding: 0;\n",
              "    width: 32px;\n",
              "  }\n",
              "\n",
              "  .colab-df-quickchart:hover {\n",
              "    background-color: var(--hover-bg-color);\n",
              "    box-shadow: 0 1px 2px rgba(60, 64, 67, 0.3), 0 1px 3px 1px rgba(60, 64, 67, 0.15);\n",
              "    fill: var(--button-hover-fill-color);\n",
              "  }\n",
              "\n",
              "  .colab-df-quickchart-complete:disabled,\n",
              "  .colab-df-quickchart-complete:disabled:hover {\n",
              "    background-color: var(--disabled-bg-color);\n",
              "    fill: var(--disabled-fill-color);\n",
              "    box-shadow: none;\n",
              "  }\n",
              "\n",
              "  .colab-df-spinner {\n",
              "    border: 2px solid var(--fill-color);\n",
              "    border-color: transparent;\n",
              "    border-bottom-color: var(--fill-color);\n",
              "    animation:\n",
              "      spin 1s steps(1) infinite;\n",
              "  }\n",
              "\n",
              "  @keyframes spin {\n",
              "    0% {\n",
              "      border-color: transparent;\n",
              "      border-bottom-color: var(--fill-color);\n",
              "      border-left-color: var(--fill-color);\n",
              "    }\n",
              "    20% {\n",
              "      border-color: transparent;\n",
              "      border-left-color: var(--fill-color);\n",
              "      border-top-color: var(--fill-color);\n",
              "    }\n",
              "    30% {\n",
              "      border-color: transparent;\n",
              "      border-left-color: var(--fill-color);\n",
              "      border-top-color: var(--fill-color);\n",
              "      border-right-color: var(--fill-color);\n",
              "    }\n",
              "    40% {\n",
              "      border-color: transparent;\n",
              "      border-right-color: var(--fill-color);\n",
              "      border-top-color: var(--fill-color);\n",
              "    }\n",
              "    60% {\n",
              "      border-color: transparent;\n",
              "      border-right-color: var(--fill-color);\n",
              "    }\n",
              "    80% {\n",
              "      border-color: transparent;\n",
              "      border-right-color: var(--fill-color);\n",
              "      border-bottom-color: var(--fill-color);\n",
              "    }\n",
              "    90% {\n",
              "      border-color: transparent;\n",
              "      border-bottom-color: var(--fill-color);\n",
              "    }\n",
              "  }\n",
              "</style>\n",
              "\n",
              "  <script>\n",
              "    async function quickchart(key) {\n",
              "      const quickchartButtonEl =\n",
              "        document.querySelector('#' + key + ' button');\n",
              "      quickchartButtonEl.disabled = true;  // To prevent multiple clicks.\n",
              "      quickchartButtonEl.classList.add('colab-df-spinner');\n",
              "      try {\n",
              "        const charts = await google.colab.kernel.invokeFunction(\n",
              "            'suggestCharts', [key], {});\n",
              "      } catch (error) {\n",
              "        console.error('Error during call to suggestCharts:', error);\n",
              "      }\n",
              "      quickchartButtonEl.classList.remove('colab-df-spinner');\n",
              "      quickchartButtonEl.classList.add('colab-df-quickchart-complete');\n",
              "    }\n",
              "    (() => {\n",
              "      let quickchartButtonEl =\n",
              "        document.querySelector('#df-9df25108-0d09-4571-afba-00ff24441436 button');\n",
              "      quickchartButtonEl.style.display =\n",
              "        google.colab.kernel.accessAllowed ? 'block' : 'none';\n",
              "    })();\n",
              "  </script>\n",
              "</div>\n",
              "\n",
              "    </div>\n",
              "  </div>\n"
            ],
            "application/vnd.google.colaboratory.intrinsic+json": {
              "type": "dataframe",
              "summary": "{\n  \"name\": \"data\",\n  \"rows\": 8,\n  \"fields\": [\n    {\n      \"column\": \"Unnamed: 0\",\n      \"properties\": {\n        \"dtype\": \"number\",\n        \"std\": 301.07965379827,\n        \"min\": 0.0,\n        \"max\": 836.0,\n        \"num_unique_values\": 7,\n        \"samples\": [\n          836.0,\n          417.5,\n          626.25\n        ],\n        \"semantic_type\": \"\",\n        \"description\": \"\"\n      }\n    },\n    {\n      \"column\": \"Ratings\",\n      \"properties\": {\n        \"dtype\": \"number\",\n        \"std\": 283.38312108805593,\n        \"min\": 0.3653564946598119,\n        \"max\": 805.0,\n        \"num_unique_values\": 8,\n        \"samples\": [\n          4.103105590062111,\n          4.1,\n          805.0\n        ],\n        \"semantic_type\": \"\",\n        \"description\": \"\"\n      }\n    },\n    {\n      \"column\": \"RAM\",\n      \"properties\": {\n        \"dtype\": \"number\",\n        \"std\": 290.22784679607236,\n        \"min\": 0.0,\n        \"max\": 829.0,\n        \"num_unique_values\": 6,\n        \"samples\": [\n          829.0,\n          6.066344993968637,\n          34.0\n        ],\n        \"semantic_type\": \"\",\n        \"description\": \"\"\n      }\n    },\n    {\n      \"column\": \"ROM\",\n      \"properties\": {\n        \"dtype\": \"number\",\n        \"std\": 279.39223489894556,\n        \"min\": 0.0,\n        \"max\": 832.0,\n        \"num_unique_values\": 8,\n        \"samples\": [\n          64.37307692307692,\n          40.0,\n          832.0\n        ],\n        \"semantic_type\": \"\",\n        \"description\": \"\"\n      }\n    },\n    {\n      \"column\": \"Mobile_Size\",\n      \"properties\": {\n        \"dtype\": \"number\",\n        \"std\": 291.6044718863198,\n        \"min\": 2.0,\n        \"max\": 834.0,\n        \"num_unique_values\": 8,\n        \"samples\": [\n          5.597281774580336,\n          4.77,\n          834.0\n        ],\n        \"semantic_type\": \"\",\n        \"description\": \"\"\n      }\n    },\n    {\n      \"column\": \"Primary_Cam\",\n      \"properties\": {\n        \"dtype\": \"number\",\n        \"std\": 282.5535811813048,\n        \"min\": 5.0,\n        \"max\": 836.0,\n        \"num_unique_values\": 6,\n        \"samples\": [\n          836.0,\n          47.983253588516746,\n          64.0\n        ],\n        \"semantic_type\": \"\",\n        \"description\": \"\"\n      }\n    },\n    {\n      \"column\": \"Selfi_Cam\",\n      \"properties\": {\n        \"dtype\": \"number\",\n        \"std\": 196.19421140154313,\n        \"min\": 0.0,\n        \"max\": 567.0,\n        \"num_unique_values\": 8,\n        \"samples\": [\n          9.784832451499119,\n          8.0,\n          567.0\n        ],\n        \"semantic_type\": \"\",\n        \"description\": \"\"\n      }\n    },\n    {\n      \"column\": \"Battery_Power\",\n      \"properties\": {\n        \"dtype\": \"number\",\n        \"std\": 1774.4423248790708,\n        \"min\": 836.0,\n        \"max\": 6000.0,\n        \"num_unique_values\": 7,\n        \"samples\": [\n          836.0,\n          3274.688995215311,\n          3800.0\n        ],\n        \"semantic_type\": \"\",\n        \"description\": \"\"\n      }\n    },\n    {\n      \"column\": \"Price\",\n      \"properties\": {\n        \"dtype\": \"number\",\n        \"std\": 198638.36931189056,\n        \"min\": 479.0,\n        \"max\": 573000.0,\n        \"num_unique_values\": 8,\n        \"samples\": [\n          18220.346889952154,\n          1697.0,\n          836.0\n        ],\n        \"semantic_type\": \"\",\n        \"description\": \"\"\n      }\n    }\n  ]\n}"
            }
          },
          "metadata": {},
          "execution_count": 699
        }
      ],
      "source": [
        "data.describe()"
      ]
    },
    {
      "cell_type": "code",
      "execution_count": null,
      "metadata": {
        "id": "fHgP6DeCvQxq",
        "colab": {
          "base_uri": "https://localhost:8080/",
          "height": 397
        },
        "outputId": "d481b6b3-5a9e-4811-c872-475b8b905f52"
      },
      "outputs": [
        {
          "output_type": "execute_result",
          "data": {
            "text/plain": [
              "Unnamed: 0         int64\n",
              "Brand me          object\n",
              "Ratings          float64\n",
              "RAM              float64\n",
              "ROM              float64\n",
              "Mobile_Size      float64\n",
              "Primary_Cam        int64\n",
              "Selfi_Cam        float64\n",
              "Battery_Power      int64\n",
              "Price              int64\n",
              "dtype: object"
            ],
            "text/html": [
              "<div>\n",
              "<style scoped>\n",
              "    .dataframe tbody tr th:only-of-type {\n",
              "        vertical-align: middle;\n",
              "    }\n",
              "\n",
              "    .dataframe tbody tr th {\n",
              "        vertical-align: top;\n",
              "    }\n",
              "\n",
              "    .dataframe thead th {\n",
              "        text-align: right;\n",
              "    }\n",
              "</style>\n",
              "<table border=\"1\" class=\"dataframe\">\n",
              "  <thead>\n",
              "    <tr style=\"text-align: right;\">\n",
              "      <th></th>\n",
              "      <th>0</th>\n",
              "    </tr>\n",
              "  </thead>\n",
              "  <tbody>\n",
              "    <tr>\n",
              "      <th>Unnamed: 0</th>\n",
              "      <td>int64</td>\n",
              "    </tr>\n",
              "    <tr>\n",
              "      <th>Brand me</th>\n",
              "      <td>object</td>\n",
              "    </tr>\n",
              "    <tr>\n",
              "      <th>Ratings</th>\n",
              "      <td>float64</td>\n",
              "    </tr>\n",
              "    <tr>\n",
              "      <th>RAM</th>\n",
              "      <td>float64</td>\n",
              "    </tr>\n",
              "    <tr>\n",
              "      <th>ROM</th>\n",
              "      <td>float64</td>\n",
              "    </tr>\n",
              "    <tr>\n",
              "      <th>Mobile_Size</th>\n",
              "      <td>float64</td>\n",
              "    </tr>\n",
              "    <tr>\n",
              "      <th>Primary_Cam</th>\n",
              "      <td>int64</td>\n",
              "    </tr>\n",
              "    <tr>\n",
              "      <th>Selfi_Cam</th>\n",
              "      <td>float64</td>\n",
              "    </tr>\n",
              "    <tr>\n",
              "      <th>Battery_Power</th>\n",
              "      <td>int64</td>\n",
              "    </tr>\n",
              "    <tr>\n",
              "      <th>Price</th>\n",
              "      <td>int64</td>\n",
              "    </tr>\n",
              "  </tbody>\n",
              "</table>\n",
              "</div><br><label><b>dtype:</b> object</label>"
            ]
          },
          "metadata": {},
          "execution_count": 700
        }
      ],
      "source": [
        "data.dtypes"
      ]
    },
    {
      "cell_type": "code",
      "execution_count": null,
      "metadata": {
        "id": "8nQY-U6RvoMa",
        "colab": {
          "base_uri": "https://localhost:8080/",
          "height": 397
        },
        "outputId": "163fe8b5-f608-4197-a9f1-0d8812e4a4a0"
      },
      "outputs": [
        {
          "output_type": "execute_result",
          "data": {
            "text/plain": [
              "Unnamed: 0         0\n",
              "Brand me           0\n",
              "Ratings           31\n",
              "RAM                7\n",
              "ROM                4\n",
              "Mobile_Size        2\n",
              "Primary_Cam        0\n",
              "Selfi_Cam        269\n",
              "Battery_Power      0\n",
              "Price              0\n",
              "dtype: int64"
            ],
            "text/html": [
              "<div>\n",
              "<style scoped>\n",
              "    .dataframe tbody tr th:only-of-type {\n",
              "        vertical-align: middle;\n",
              "    }\n",
              "\n",
              "    .dataframe tbody tr th {\n",
              "        vertical-align: top;\n",
              "    }\n",
              "\n",
              "    .dataframe thead th {\n",
              "        text-align: right;\n",
              "    }\n",
              "</style>\n",
              "<table border=\"1\" class=\"dataframe\">\n",
              "  <thead>\n",
              "    <tr style=\"text-align: right;\">\n",
              "      <th></th>\n",
              "      <th>0</th>\n",
              "    </tr>\n",
              "  </thead>\n",
              "  <tbody>\n",
              "    <tr>\n",
              "      <th>Unnamed: 0</th>\n",
              "      <td>0</td>\n",
              "    </tr>\n",
              "    <tr>\n",
              "      <th>Brand me</th>\n",
              "      <td>0</td>\n",
              "    </tr>\n",
              "    <tr>\n",
              "      <th>Ratings</th>\n",
              "      <td>31</td>\n",
              "    </tr>\n",
              "    <tr>\n",
              "      <th>RAM</th>\n",
              "      <td>7</td>\n",
              "    </tr>\n",
              "    <tr>\n",
              "      <th>ROM</th>\n",
              "      <td>4</td>\n",
              "    </tr>\n",
              "    <tr>\n",
              "      <th>Mobile_Size</th>\n",
              "      <td>2</td>\n",
              "    </tr>\n",
              "    <tr>\n",
              "      <th>Primary_Cam</th>\n",
              "      <td>0</td>\n",
              "    </tr>\n",
              "    <tr>\n",
              "      <th>Selfi_Cam</th>\n",
              "      <td>269</td>\n",
              "    </tr>\n",
              "    <tr>\n",
              "      <th>Battery_Power</th>\n",
              "      <td>0</td>\n",
              "    </tr>\n",
              "    <tr>\n",
              "      <th>Price</th>\n",
              "      <td>0</td>\n",
              "    </tr>\n",
              "  </tbody>\n",
              "</table>\n",
              "</div><br><label><b>dtype:</b> int64</label>"
            ]
          },
          "metadata": {},
          "execution_count": 701
        }
      ],
      "source": [
        "data.isnull().sum()"
      ]
    },
    {
      "cell_type": "code",
      "execution_count": null,
      "metadata": {
        "id": "MG0LslJ0yJN8",
        "colab": {
          "base_uri": "https://localhost:8080/"
        },
        "outputId": "c29fead5-eac5-497d-b715-c77b504dedb2"
      },
      "outputs": [
        {
          "output_type": "execute_result",
          "data": {
            "text/plain": [
              "0"
            ]
          },
          "metadata": {},
          "execution_count": 702
        }
      ],
      "source": [
        "data.duplicated().sum()"
      ]
    },
    {
      "cell_type": "markdown",
      "metadata": {
        "id": "ikXXnbSq-zYm"
      },
      "source": [
        "### Handle Missing Values"
      ]
    },
    {
      "cell_type": "code",
      "execution_count": null,
      "metadata": {
        "id": "8dZcTYRE8DnV",
        "colab": {
          "base_uri": "https://localhost:8080/"
        },
        "outputId": "84935d13-3274-47e4-f1d7-9235c793ec96"
      },
      "outputs": [
        {
          "output_type": "stream",
          "name": "stderr",
          "text": [
            "<ipython-input-703-22604326cc6e>:3: FutureWarning: A value is trying to be set on a copy of a DataFrame or Series through chained assignment using an inplace method.\n",
            "The behavior will change in pandas 3.0. This inplace method will never work because the intermediate object on which we are setting values always behaves as a copy.\n",
            "\n",
            "For example, when doing 'df[col].method(value, inplace=True)', try using 'df.method({col: value}, inplace=True)' or df[col] = df[col].method(value) instead, to perform the operation inplace on the original object.\n",
            "\n",
            "\n",
            "  data[col].fillna(data[col].mode()[0], inplace=True)\n"
          ]
        }
      ],
      "source": [
        "categorical_cols = data.select_dtypes(include=['object']).columns\n",
        "for col in categorical_cols:\n",
        "    data[col].fillna(data[col].mode()[0], inplace=True)"
      ]
    },
    {
      "cell_type": "code",
      "execution_count": null,
      "metadata": {
        "id": "EBTjDkD5AtFc",
        "colab": {
          "base_uri": "https://localhost:8080/"
        },
        "outputId": "f9b155d5-5002-4d81-ca84-214d5b3e9968"
      },
      "outputs": [
        {
          "output_type": "stream",
          "name": "stderr",
          "text": [
            "<ipython-input-704-a6aee263a1ff>:3: FutureWarning: A value is trying to be set on a copy of a DataFrame or Series through chained assignment using an inplace method.\n",
            "The behavior will change in pandas 3.0. This inplace method will never work because the intermediate object on which we are setting values always behaves as a copy.\n",
            "\n",
            "For example, when doing 'df[col].method(value, inplace=True)', try using 'df.method({col: value}, inplace=True)' or df[col] = df[col].method(value) instead, to perform the operation inplace on the original object.\n",
            "\n",
            "\n",
            "  data[col].fillna(data[col].mean(), inplace=True)\n"
          ]
        }
      ],
      "source": [
        "numerical_cols = data.select_dtypes(include=['float64']).columns\n",
        "for col in numerical_cols:\n",
        "    data[col].fillna(data[col].mean(), inplace=True)"
      ]
    },
    {
      "cell_type": "code",
      "execution_count": null,
      "metadata": {
        "id": "zBZTvrQhAxMV",
        "colab": {
          "base_uri": "https://localhost:8080/",
          "height": 397
        },
        "outputId": "c2df906a-dcfa-49b7-93ac-48b8f13afd3a"
      },
      "outputs": [
        {
          "output_type": "execute_result",
          "data": {
            "text/plain": [
              "Unnamed: 0       0\n",
              "Brand me         0\n",
              "Ratings          0\n",
              "RAM              0\n",
              "ROM              0\n",
              "Mobile_Size      0\n",
              "Primary_Cam      0\n",
              "Selfi_Cam        0\n",
              "Battery_Power    0\n",
              "Price            0\n",
              "dtype: int64"
            ],
            "text/html": [
              "<div>\n",
              "<style scoped>\n",
              "    .dataframe tbody tr th:only-of-type {\n",
              "        vertical-align: middle;\n",
              "    }\n",
              "\n",
              "    .dataframe tbody tr th {\n",
              "        vertical-align: top;\n",
              "    }\n",
              "\n",
              "    .dataframe thead th {\n",
              "        text-align: right;\n",
              "    }\n",
              "</style>\n",
              "<table border=\"1\" class=\"dataframe\">\n",
              "  <thead>\n",
              "    <tr style=\"text-align: right;\">\n",
              "      <th></th>\n",
              "      <th>0</th>\n",
              "    </tr>\n",
              "  </thead>\n",
              "  <tbody>\n",
              "    <tr>\n",
              "      <th>Unnamed: 0</th>\n",
              "      <td>0</td>\n",
              "    </tr>\n",
              "    <tr>\n",
              "      <th>Brand me</th>\n",
              "      <td>0</td>\n",
              "    </tr>\n",
              "    <tr>\n",
              "      <th>Ratings</th>\n",
              "      <td>0</td>\n",
              "    </tr>\n",
              "    <tr>\n",
              "      <th>RAM</th>\n",
              "      <td>0</td>\n",
              "    </tr>\n",
              "    <tr>\n",
              "      <th>ROM</th>\n",
              "      <td>0</td>\n",
              "    </tr>\n",
              "    <tr>\n",
              "      <th>Mobile_Size</th>\n",
              "      <td>0</td>\n",
              "    </tr>\n",
              "    <tr>\n",
              "      <th>Primary_Cam</th>\n",
              "      <td>0</td>\n",
              "    </tr>\n",
              "    <tr>\n",
              "      <th>Selfi_Cam</th>\n",
              "      <td>0</td>\n",
              "    </tr>\n",
              "    <tr>\n",
              "      <th>Battery_Power</th>\n",
              "      <td>0</td>\n",
              "    </tr>\n",
              "    <tr>\n",
              "      <th>Price</th>\n",
              "      <td>0</td>\n",
              "    </tr>\n",
              "  </tbody>\n",
              "</table>\n",
              "</div><br><label><b>dtype:</b> int64</label>"
            ]
          },
          "metadata": {},
          "execution_count": 705
        }
      ],
      "source": [
        "data.isnull().sum()"
      ]
    },
    {
      "cell_type": "code",
      "source": [
        "# Create copy of the original DataFrame\n",
        "Original_data = data.copy()"
      ],
      "metadata": {
        "id": "hZbBfWR68uyF"
      },
      "execution_count": null,
      "outputs": []
    },
    {
      "cell_type": "markdown",
      "metadata": {
        "id": "Hp6M6_BJA7ld"
      },
      "source": [
        "### Standardizing"
      ]
    },
    {
      "cell_type": "code",
      "execution_count": null,
      "metadata": {
        "id": "jMHiSLk1A6v9",
        "colab": {
          "base_uri": "https://localhost:8080/"
        },
        "outputId": "d00775f7-0f3b-4141-aed9-c63bbca3fbd5"
      },
      "outputs": [
        {
          "output_type": "stream",
          "name": "stdout",
          "text": [
            "Standardized column names: Index(['unnamed:_0', 'brand_me', 'ratings', 'ram', 'rom', 'mobile_size',\n",
            "       'primary_cam', 'selfi_cam', 'battery_power', 'price'],\n",
            "      dtype='object')\n",
            "     unnamed:_0                         brand_me  ratings   ram    rom  \\\n",
            "0             0            LG V30+ (Black, 128 )      4.3   4.0  128.0   \n",
            "1             1                       I Kall K11      3.4   6.0   64.0   \n",
            "2             2                     Nokia 105 ss      4.3   4.0    4.0   \n",
            "3             3  Samsung Galaxy A50 (White, 64 )      4.4   6.0   64.0   \n",
            "4             4       POCO F1 (Steel Blue, 128 )      4.5   6.0  128.0   \n",
            "..          ...                              ...      ...   ...    ...   \n",
            "831         831             Karbonn K24 Plus Pro      3.8   6.0   32.0   \n",
            "832         832                  InFocus POWER 2      4.1   8.0   64.0   \n",
            "833         833  Alcatel 5V (Spectrum Blue, 32 )      4.4   3.0   32.0   \n",
            "834         834                      JIVI JV 12M      3.7  10.0   32.0   \n",
            "835         835                  Blacear B5 Grip      3.5   6.0   32.0   \n",
            "\n",
            "     mobile_size  primary_cam  selfi_cam  battery_power  price  \n",
            "0           6.00           48  13.000000           4000  24999  \n",
            "1           4.50           48  12.000000           4000  15999  \n",
            "2           4.50           64  16.000000           4000  15000  \n",
            "3           6.40           48  15.000000           3800  18999  \n",
            "4           6.18           35  15.000000           3800  18999  \n",
            "..           ...          ...        ...            ...    ...  \n",
            "831         4.54           48  12.000000           2800   1299  \n",
            "832         4.54           64   9.784832           2500   1390  \n",
            "833         6.20           48   1.000000           3800   9790  \n",
            "834         4.50           64   9.784832           3500    799  \n",
            "835         4.50           64  15.000000           1050    799  \n",
            "\n",
            "[836 rows x 10 columns]\n"
          ]
        }
      ],
      "source": [
        "# Standardize column names\n",
        "data.columns = data.columns.str.strip() # Remove leading/trailing whitespace\n",
        "data.columns = data.columns.str.lower() # Convert to lowercase\n",
        "data.columns = data.columns.str.replace(' ', '_') # Replace spaces with underscores\n",
        "data.columns = data.columns.str.replace(r'[^\\w\\s]', '') # Remove special characters (except underscores)\n",
        "\n",
        "# Display standardized column names\n",
        "print(\"Standardized column names:\", data.columns)\n",
        "\n",
        "# Display the DataFrame\n",
        "print(data)"
      ]
    },
    {
      "cell_type": "code",
      "execution_count": null,
      "metadata": {
        "id": "DZOyJUJ5VMI-",
        "colab": {
          "base_uri": "https://localhost:8080/"
        },
        "outputId": "1c88e249-1606-4d9e-f217-ba65d58158c8"
      },
      "outputs": [
        {
          "output_type": "execute_result",
          "data": {
            "text/plain": [
              "Index(['unnamed:_0', 'brand_me', 'ratings', 'ram', 'rom', 'mobile_size',\n",
              "       'primary_cam', 'selfi_cam', 'battery_power', 'price'],\n",
              "      dtype='object')"
            ]
          },
          "metadata": {},
          "execution_count": 708
        }
      ],
      "source": [
        "data.columns"
      ]
    },
    {
      "cell_type": "markdown",
      "metadata": {
        "id": "YnP31IAdTG5A"
      },
      "source": [
        "### Encoding"
      ]
    },
    {
      "cell_type": "code",
      "execution_count": null,
      "metadata": {
        "id": "fZ3r83OqR_4y",
        "colab": {
          "base_uri": "https://localhost:8080/"
        },
        "outputId": "d5b392da-42b5-4f3e-c276-9f2941e4de04"
      },
      "outputs": [
        {
          "output_type": "stream",
          "name": "stdout",
          "text": [
            "Ordinal Columns: {}\n",
            "Nominal Columns: ['brand_me']\n"
          ]
        }
      ],
      "source": [
        "# Example function to classify columns\n",
        "def classify_columns(data):\n",
        "    ordinal_columns = {}\n",
        "    nominal_columns = []\n",
        "\n",
        "    for col in data.select_dtypes(include=['object']).columns:\n",
        "        unique_vals = data[col].nunique()\n",
        "\n",
        "        # Assuming fewer than 10 unique values could be ordinal (manual review needed)\n",
        "        if unique_vals <= 10:\n",
        "            # Manual review required to confirm if they are ordinal\n",
        "            print(f\"Check if '{col}' should be ordinal\")\n",
        "            # For example, you could categorize these manually based on domain knowledge\n",
        "            # ordinal_columns[col] = <order>\n",
        "        else:\n",
        "            nominal_columns.append(col)\n",
        "\n",
        "    return ordinal_columns, nominal_columns\n",
        "\n",
        "ordinal_cols, nominal_cols = classify_columns(data)\n",
        "\n",
        "print(\"Ordinal Columns:\", ordinal_cols)\n",
        "print(\"Nominal Columns:\", nominal_cols)"
      ]
    },
    {
      "cell_type": "code",
      "source": [
        "#Initialize the LabelEncoder\n",
        "label_encoder = LabelEncoder()\n",
        "\n",
        "# Fit and transform the 'track' column\n",
        "data['brand_me'] = label_encoder.fit_transform(data['brand_me'])\n",
        "\n",
        "# Display the DataFrame to verify changes\n",
        "print(\"DataFrame after label encoding:\")\n",
        "print(data)"
      ],
      "metadata": {
        "colab": {
          "base_uri": "https://localhost:8080/"
        },
        "id": "HJMO2hklVGtW",
        "outputId": "a84ae0f7-e469-4040-a427-d4db1c66d1f6"
      },
      "execution_count": null,
      "outputs": [
        {
          "output_type": "stream",
          "name": "stdout",
          "text": [
            "DataFrame after label encoding:\n",
            "     unnamed:_0  brand_me  ratings   ram    rom  mobile_size  primary_cam  \\\n",
            "0             0       184      4.3   4.0  128.0         6.00           48   \n",
            "1             1        82      3.4   6.0   64.0         4.50           48   \n",
            "2             2       250      4.3   4.0    4.0         4.50           64   \n",
            "3             3       349      4.4   6.0   64.0         6.40           48   \n",
            "4             4       303      4.5   6.0  128.0         6.18           35   \n",
            "..          ...       ...      ...   ...    ...          ...          ...   \n",
            "831         831       153      3.8   6.0   32.0         4.54           48   \n",
            "832         832       117      4.1   8.0   64.0         4.54           64   \n",
            "833         833         3      4.4   3.0   32.0         6.20           48   \n",
            "834         834       139      3.7  10.0   32.0         4.50           64   \n",
            "835         835        27      3.5   6.0   32.0         4.50           64   \n",
            "\n",
            "     selfi_cam  battery_power  price  \n",
            "0    13.000000           4000  24999  \n",
            "1    12.000000           4000  15999  \n",
            "2    16.000000           4000  15000  \n",
            "3    15.000000           3800  18999  \n",
            "4    15.000000           3800  18999  \n",
            "..         ...            ...    ...  \n",
            "831  12.000000           2800   1299  \n",
            "832   9.784832           2500   1390  \n",
            "833   1.000000           3800   9790  \n",
            "834   9.784832           3500    799  \n",
            "835  15.000000           1050    799  \n",
            "\n",
            "[836 rows x 10 columns]\n"
          ]
        }
      ]
    },
    {
      "cell_type": "code",
      "execution_count": null,
      "metadata": {
        "id": "T9IyAOTtXL2d",
        "colab": {
          "base_uri": "https://localhost:8080/",
          "height": 397
        },
        "outputId": "d17aecb7-bb67-4bb2-d155-36cd75277010"
      },
      "outputs": [
        {
          "output_type": "execute_result",
          "data": {
            "text/plain": [
              "unnamed:_0         int64\n",
              "brand_me           int64\n",
              "ratings          float64\n",
              "ram              float64\n",
              "rom              float64\n",
              "mobile_size      float64\n",
              "primary_cam        int64\n",
              "selfi_cam        float64\n",
              "battery_power      int64\n",
              "price              int64\n",
              "dtype: object"
            ],
            "text/html": [
              "<div>\n",
              "<style scoped>\n",
              "    .dataframe tbody tr th:only-of-type {\n",
              "        vertical-align: middle;\n",
              "    }\n",
              "\n",
              "    .dataframe tbody tr th {\n",
              "        vertical-align: top;\n",
              "    }\n",
              "\n",
              "    .dataframe thead th {\n",
              "        text-align: right;\n",
              "    }\n",
              "</style>\n",
              "<table border=\"1\" class=\"dataframe\">\n",
              "  <thead>\n",
              "    <tr style=\"text-align: right;\">\n",
              "      <th></th>\n",
              "      <th>0</th>\n",
              "    </tr>\n",
              "  </thead>\n",
              "  <tbody>\n",
              "    <tr>\n",
              "      <th>unnamed:_0</th>\n",
              "      <td>int64</td>\n",
              "    </tr>\n",
              "    <tr>\n",
              "      <th>brand_me</th>\n",
              "      <td>int64</td>\n",
              "    </tr>\n",
              "    <tr>\n",
              "      <th>ratings</th>\n",
              "      <td>float64</td>\n",
              "    </tr>\n",
              "    <tr>\n",
              "      <th>ram</th>\n",
              "      <td>float64</td>\n",
              "    </tr>\n",
              "    <tr>\n",
              "      <th>rom</th>\n",
              "      <td>float64</td>\n",
              "    </tr>\n",
              "    <tr>\n",
              "      <th>mobile_size</th>\n",
              "      <td>float64</td>\n",
              "    </tr>\n",
              "    <tr>\n",
              "      <th>primary_cam</th>\n",
              "      <td>int64</td>\n",
              "    </tr>\n",
              "    <tr>\n",
              "      <th>selfi_cam</th>\n",
              "      <td>float64</td>\n",
              "    </tr>\n",
              "    <tr>\n",
              "      <th>battery_power</th>\n",
              "      <td>int64</td>\n",
              "    </tr>\n",
              "    <tr>\n",
              "      <th>price</th>\n",
              "      <td>int64</td>\n",
              "    </tr>\n",
              "  </tbody>\n",
              "</table>\n",
              "</div><br><label><b>dtype:</b> object</label>"
            ]
          },
          "metadata": {},
          "execution_count": 711
        }
      ],
      "source": [
        "data.dtypes"
      ]
    },
    {
      "cell_type": "markdown",
      "metadata": {
        "id": "CrQi9skITT0-"
      },
      "source": [
        "## Data Visualization"
      ]
    },
    {
      "cell_type": "markdown",
      "metadata": {
        "id": "JiV_KMZvtJD8"
      },
      "source": [
        "# Feature Selection and Engineering"
      ]
    },
    {
      "cell_type": "markdown",
      "metadata": {
        "id": "krD9rDNRXT2t"
      },
      "source": [
        "### Correlation"
      ]
    },
    {
      "cell_type": "code",
      "execution_count": null,
      "metadata": {
        "id": "VjZVE6gUPOjs",
        "colab": {
          "base_uri": "https://localhost:8080/",
          "height": 1000
        },
        "outputId": "db7ca1e5-f179-44f8-ff75-e0137e4f543d"
      },
      "outputs": [
        {
          "output_type": "stream",
          "name": "stdout",
          "text": [
            "               unnamed:_0  brand_me   ratings       ram       rom  \\\n",
            "unnamed:_0       1.000000  0.027484  0.035526 -0.002793  0.041111   \n",
            "brand_me         0.027484  1.000000  0.400408 -0.079042  0.319278   \n",
            "ratings          0.035526  0.400408  1.000000  0.099955  0.454800   \n",
            "ram             -0.002793 -0.079042  0.099955  1.000000  0.251482   \n",
            "rom              0.041111  0.319278  0.454800  0.251482  1.000000   \n",
            "mobile_size     -0.014530  0.062709  0.088881 -0.001273  0.108041   \n",
            "primary_cam      0.048192  0.069310 -0.091763  0.139794 -0.069758   \n",
            "selfi_cam        0.052949 -0.118989 -0.137997  0.167904 -0.107695   \n",
            "battery_power   -0.009143  0.354186  0.468817  0.023220  0.409200   \n",
            "price           -0.010725 -0.007689  0.366343  0.236886  0.255621   \n",
            "\n",
            "               mobile_size  primary_cam  selfi_cam  battery_power     price  \n",
            "unnamed:_0       -0.014530     0.048192   0.052949      -0.009143 -0.010725  \n",
            "brand_me          0.062709     0.069310  -0.118989       0.354186 -0.007689  \n",
            "ratings           0.088881    -0.091763  -0.137997       0.468817  0.366343  \n",
            "ram              -0.001273     0.139794   0.167904       0.023220  0.236886  \n",
            "rom               0.108041    -0.069758  -0.107695       0.409200  0.255621  \n",
            "mobile_size       1.000000    -0.059897  -0.049400       0.131604  0.049081  \n",
            "primary_cam      -0.059897     1.000000   0.150544      -0.057011 -0.158122  \n",
            "selfi_cam        -0.049400     0.150544   1.000000      -0.173809 -0.045858  \n",
            "battery_power     0.131604    -0.057011  -0.173809       1.000000  0.168626  \n",
            "price             0.049081    -0.158122  -0.045858       0.168626  1.000000  \n"
          ]
        },
        {
          "output_type": "display_data",
          "data": {
            "text/plain": [
              "<Figure size 2000x2000 with 2 Axes>"
            ],
            "image/png": "[encoded data removed]"
          },
          "metadata": {}
        }
      ],
      "source": [
        "for column in data.columns:\n",
        "    data[column] = pd.to_numeric(data[column], errors='coerce')  # Convert to numeric, setting errors='coerce' will convert invalid parsing to NaN\n",
        "\n",
        "numeric_data = data.select_dtypes(include=['float64', 'int64'])\n",
        "correlation_matrix = numeric_data.corr()\n",
        "\n",
        "# Display the correlation matrix\n",
        "print(correlation_matrix)\n",
        "\n",
        "correlation_matrix_filled = correlation_matrix.fillna(0)\n",
        "\n",
        "# Visualize the correlation matrix as a heatmap\n",
        "plt.figure(figsize=(20, 20))\n",
        "sns.heatmap(correlation_matrix, annot=True, cmap='YlGnBu', fmt='.2f', linewidths=0.5)\n",
        "plt.title('Correlation Matrix')\n",
        "plt.show()"
      ]
    },
    {
      "cell_type": "code",
      "execution_count": null,
      "metadata": {
        "id": "0_Ul2-lycKNW",
        "colab": {
          "base_uri": "https://localhost:8080/",
          "height": 397
        },
        "outputId": "41db3d0a-9023-4334-d383-5fa91ea0d5a1"
      },
      "outputs": [
        {
          "output_type": "execute_result",
          "data": {
            "text/plain": [
              "unnamed:_0       0\n",
              "brand_me         0\n",
              "ratings          0\n",
              "ram              0\n",
              "rom              0\n",
              "mobile_size      0\n",
              "primary_cam      0\n",
              "selfi_cam        0\n",
              "battery_power    0\n",
              "price            0\n",
              "dtype: int64"
            ],
            "text/html": [
              "<div>\n",
              "<style scoped>\n",
              "    .dataframe tbody tr th:only-of-type {\n",
              "        vertical-align: middle;\n",
              "    }\n",
              "\n",
              "    .dataframe tbody tr th {\n",
              "        vertical-align: top;\n",
              "    }\n",
              "\n",
              "    .dataframe thead th {\n",
              "        text-align: right;\n",
              "    }\n",
              "</style>\n",
              "<table border=\"1\" class=\"dataframe\">\n",
              "  <thead>\n",
              "    <tr style=\"text-align: right;\">\n",
              "      <th></th>\n",
              "      <th>0</th>\n",
              "    </tr>\n",
              "  </thead>\n",
              "  <tbody>\n",
              "    <tr>\n",
              "      <th>unnamed:_0</th>\n",
              "      <td>0</td>\n",
              "    </tr>\n",
              "    <tr>\n",
              "      <th>brand_me</th>\n",
              "      <td>0</td>\n",
              "    </tr>\n",
              "    <tr>\n",
              "      <th>ratings</th>\n",
              "      <td>0</td>\n",
              "    </tr>\n",
              "    <tr>\n",
              "      <th>ram</th>\n",
              "      <td>0</td>\n",
              "    </tr>\n",
              "    <tr>\n",
              "      <th>rom</th>\n",
              "      <td>0</td>\n",
              "    </tr>\n",
              "    <tr>\n",
              "      <th>mobile_size</th>\n",
              "      <td>0</td>\n",
              "    </tr>\n",
              "    <tr>\n",
              "      <th>primary_cam</th>\n",
              "      <td>0</td>\n",
              "    </tr>\n",
              "    <tr>\n",
              "      <th>selfi_cam</th>\n",
              "      <td>0</td>\n",
              "    </tr>\n",
              "    <tr>\n",
              "      <th>battery_power</th>\n",
              "      <td>0</td>\n",
              "    </tr>\n",
              "    <tr>\n",
              "      <th>price</th>\n",
              "      <td>0</td>\n",
              "    </tr>\n",
              "  </tbody>\n",
              "</table>\n",
              "</div><br><label><b>dtype:</b> int64</label>"
            ]
          },
          "metadata": {},
          "execution_count": 713
        }
      ],
      "source": [
        "data.isnull().sum()"
      ]
    },
    {
      "cell_type": "code",
      "execution_count": null,
      "metadata": {
        "id": "TvVgkU8f0Gec",
        "colab": {
          "base_uri": "https://localhost:8080/"
        },
        "outputId": "cec6ad47-993a-4be9-e8e5-5519cc715d87"
      },
      "outputs": [
        {
          "output_type": "execute_result",
          "data": {
            "text/plain": [
              "Index(['unnamed:_0', 'brand_me', 'ratings', 'ram', 'rom', 'mobile_size',\n",
              "       'primary_cam', 'selfi_cam', 'battery_power', 'price'],\n",
              "      dtype='object')"
            ]
          },
          "metadata": {},
          "execution_count": 714
        }
      ],
      "source": [
        "data.columns"
      ]
    },
    {
      "cell_type": "code",
      "source": [
        "# Count occurrences of each RAM size\n",
        "ram_counts = data['ram'].value_counts()\n",
        "\n",
        "# Create the bar chart\n",
        "plt.figure(figsize=(8, 6))\n",
        "plt.bar(ram_counts.index, ram_counts.values, color='green')\n",
        "\n",
        "# Add titles and labels\n",
        "plt.title('RAM Size Distribution')\n",
        "plt.xlabel('RAM Size')\n",
        "plt.ylabel('Count')\n",
        "plt.xticks(rotation=45)\n",
        "plt.show()"
      ],
      "metadata": {
        "colab": {
          "base_uri": "https://localhost:8080/",
          "height": 572
        },
        "id": "PSMYMqyt-y6t",
        "outputId": "7a542c89-0e5a-4cb9-f298-80ee63c852d4"
      },
      "execution_count": null,
      "outputs": [
        {
          "output_type": "display_data",
          "data": {
            "text/plain": [
              "<Figure size 800x600 with 1 Axes>"
            ],
            "image/png": "[encoded data removed]"
          },
          "metadata": {}
        }
      ]
    },
    {
      "cell_type": "code",
      "source": [
        "plt.boxplot(data['brand_me'])\n",
        "plt.title('Boxplot')\n",
        "plt.ylabel('Brand_me')\n",
        "plt.show()"
      ],
      "metadata": {
        "colab": {
          "base_uri": "https://localhost:8080/",
          "height": 452
        },
        "id": "va4koKHhGXE4",
        "outputId": "8d379e19-2deb-4713-e8bc-2deeefaf48c8"
      },
      "execution_count": null,
      "outputs": [
        {
          "output_type": "display_data",
          "data": {
            "text/plain": [
              "<Figure size 640x480 with 1 Axes>"
            ],
            "image/png": "[encoded data removed]"
          },
          "metadata": {}
        }
      ]
    },
    {
      "cell_type": "code",
      "source": [
        "sns.displot(data[\"ratings\"], color='skyblue')\n",
        "plt.title(\"Distribution of Ratings\")\n",
        "plt.xlabel(\"Ratings\")\n",
        "plt.ylabel(\"Frequency\")\n",
        "plt.show()"
      ],
      "metadata": {
        "colab": {
          "base_uri": "https://localhost:8080/",
          "height": 529
        },
        "id": "O1g6zIXxH7_o",
        "outputId": "41eab945-9ed4-49c3-980f-fde99a922f4f"
      },
      "execution_count": null,
      "outputs": [
        {
          "output_type": "display_data",
          "data": {
            "text/plain": [
              "<Figure size 500x500 with 1 Axes>"
            ],
            "image/png": "[encoded data removed]"
          },
          "metadata": {}
        }
      ]
    },
    {
      "cell_type": "code",
      "source": [],
      "metadata": {
        "id": "PP8i85D_MnP3"
      },
      "execution_count": null,
      "outputs": []
    },
    {
      "cell_type": "code",
      "execution_count": null,
      "metadata": {
        "id": "gzK4w7Ht17l3",
        "colab": {
          "base_uri": "https://localhost:8080/"
        },
        "outputId": "5ca768f1-2500-4e00-a1b6-22310ca63826"
      },
      "outputs": [
        {
          "output_type": "stream",
          "name": "stdout",
          "text": [
            "Features ranked by RFE:\n",
            "         Feature  Ranking\n",
            "0     unnamed:_0        1\n",
            "1       brand_me        1\n",
            "5    mobile_size        1\n",
            "2        ratings        2\n",
            "8  battery_power        3\n",
            "7      selfi_cam        4\n",
            "3            ram        5\n",
            "4            rom        6\n",
            "6    primary_cam        7\n"
          ]
        }
      ],
      "source": [
        "X = data[['unnamed:_0', 'brand_me', 'ratings', 'ram', 'rom', 'mobile_size',\n",
        "       'primary_cam', 'selfi_cam', 'battery_power']]\n",
        "y = data['price']  # Target variable\n",
        "\n",
        "# Split the data into training and testing sets\n",
        "X_train, X_test, y_train, y_test = train_test_split(X, y, test_size=0.2, random_state=42)\n",
        "\n",
        "# Replace infinite values with NaN and handle them\n",
        "X_train.replace([np.inf, -np.inf], np.nan, inplace=True)\n",
        "X_train.fillna(X_train.mean(), inplace=True)\n",
        "\n",
        "# Create a Random Forest model\n",
        "model = RandomForestClassifier(n_estimators=100, random_state=42)\n",
        "\n",
        "# Initialize RFE and select the number of features to keep (e.g., 3)\n",
        "rfe = RFE(model, n_features_to_select=3)\n",
        "rfe.fit(X_train, y_train)\n",
        "\n",
        "# Get the ranking of features\n",
        "feature_ranking = pd.DataFrame({'Feature': X.columns, 'Ranking': rfe.ranking_})\n",
        "print(\"Features ranked by RFE:\")\n",
        "print(feature_ranking.sort_values('Ranking'))"
      ]
    },
    {
      "cell_type": "markdown",
      "metadata": {
        "id": "SnCgSWp-64eK"
      },
      "source": [
        "# Model Selection and Building"
      ]
    },
    {
      "cell_type": "markdown",
      "metadata": {
        "id": "tTJxhR-PmbGw"
      },
      "source": [
        "### Random Forest model"
      ]
    },
    {
      "cell_type": "code",
      "source": [
        "import warnings\n",
        "from sklearn.exceptions import UndefinedMetricWarning\n",
        "\n",
        "# Suppress only UndefinedMetricWarning\n",
        "warnings.filterwarnings(\"ignore\", category=UndefinedMetricWarning)\n"
      ],
      "metadata": {
        "id": "yO_rvQkhN-yV"
      },
      "execution_count": null,
      "outputs": []
    },
    {
      "cell_type": "code",
      "execution_count": null,
      "metadata": {
        "id": "QUehRgzQ7bYK",
        "colab": {
          "base_uri": "https://localhost:8080/"
        },
        "outputId": "a396172f-700e-4be3-86c1-22f4e76a6a6d"
      },
      "outputs": [
        {
          "output_type": "stream",
          "name": "stdout",
          "text": [
            "Random Forest Model Evaluation:\n",
            "Accuracy: 0.6130952380952381\n",
            "              precision    recall  f1-score   support\n",
            "\n",
            "         559       0.00      0.00      0.00         1\n",
            "         599       0.00      0.00      0.00         1\n",
            "         629       0.00      0.00      0.00         2\n",
            "         639       1.00      0.25      0.40         4\n",
            "         649       0.45      0.71      0.56         7\n",
            "         699       0.00      0.00      0.00         1\n",
            "         715       0.00      0.00      0.00         1\n",
            "         735       0.00      0.00      0.00         0\n",
            "         749       1.00      0.67      0.80         3\n",
            "         785       0.00      0.00      0.00         1\n",
            "         798       0.00      0.00      0.00         2\n",
            "         799       0.67      1.00      0.80         2\n",
            "         849       0.00      0.00      0.00         2\n",
            "         869       0.00      0.00      0.00         0\n",
            "         870       0.00      0.00      0.00         1\n",
            "         890       1.00      1.00      1.00         1\n",
            "         899       0.33      0.50      0.40         2\n",
            "         900       1.00      1.00      1.00         1\n",
            "         930       1.00      1.00      1.00         2\n",
            "         935       0.00      0.00      0.00         0\n",
            "         940       0.00      0.00      0.00         1\n",
            "         945       1.00      1.00      1.00         2\n",
            "         949       1.00      1.00      1.00         2\n",
            "         950       0.00      0.00      0.00         0\n",
            "         959       0.00      0.00      0.00         1\n",
            "         970       1.00      0.50      0.67         2\n",
            "         985       1.00      0.50      0.67         2\n",
            "         995       0.50      1.00      0.67         1\n",
            "         999       0.00      0.00      0.00         2\n",
            "        1049       0.00      0.00      0.00         0\n",
            "        1089       1.00      1.00      1.00         1\n",
            "        1098       1.00      1.00      1.00         1\n",
            "        1099       0.50      0.80      0.62         5\n",
            "        1100       0.00      0.00      0.00         0\n",
            "        1110       1.00      1.00      1.00         1\n",
            "        1111       0.00      0.00      0.00         1\n",
            "        1125       0.00      0.00      0.00         0\n",
            "        1149       0.00      0.00      0.00         0\n",
            "        1190       0.00      0.00      0.00         1\n",
            "        1199       1.00      0.20      0.33         5\n",
            "        1240       1.00      1.00      1.00         1\n",
            "        1273       0.00      0.00      0.00         0\n",
            "        1275       1.00      1.00      1.00         1\n",
            "        1299       1.00      0.75      0.86         4\n",
            "        1329       1.00      1.00      1.00         1\n",
            "        1330       1.00      0.50      0.67         2\n",
            "        1346       1.00      1.00      1.00         1\n",
            "        1349       1.00      0.80      0.89         5\n",
            "        1350       0.00      0.00      0.00         1\n",
            "        1390       0.50      1.00      0.67         1\n",
            "        1399       0.00      0.00      0.00         0\n",
            "        1460       0.00      0.00      0.00         1\n",
            "        1500       0.00      0.00      0.00         1\n",
            "        1549       0.00      0.00      0.00         1\n",
            "        1570       1.00      1.00      1.00         1\n",
            "        1575       0.00      0.00      0.00         2\n",
            "        1579       1.00      1.00      1.00         1\n",
            "        1599       0.20      0.50      0.29         2\n",
            "        1625       0.00      0.00      0.00         1\n",
            "        1690       1.00      1.00      1.00         2\n",
            "        1695       1.00      0.33      0.50         3\n",
            "        1699       0.33      1.00      0.50         1\n",
            "        1799       0.50      0.50      0.50         2\n",
            "        1840       0.00      0.00      0.00         0\n",
            "        2025       0.00      0.00      0.00         1\n",
            "        2100       0.00      0.00      0.00         0\n",
            "        2135       0.50      1.00      0.67         1\n",
            "        2299       0.00      0.00      0.00         1\n",
            "        3000       0.50      1.00      0.67         1\n",
            "        3999       1.00      1.00      1.00         2\n",
            "        6499       0.00      0.00      0.00         0\n",
            "        7490       0.50      1.00      0.67         1\n",
            "        9490       0.00      0.00      0.00         1\n",
            "        9790       1.00      1.00      1.00         1\n",
            "       11999       1.00      1.00      1.00         2\n",
            "       12900       0.50      1.00      0.67         1\n",
            "       13900       0.00      0.00      0.00         1\n",
            "       13999       0.33      1.00      0.50         1\n",
            "       14990       0.00      0.00      0.00         1\n",
            "       14999       0.00      0.00      0.00         1\n",
            "       15000       0.00      0.00      0.00         1\n",
            "       15656       1.00      1.00      1.00         1\n",
            "       15990       1.00      1.00      1.00         1\n",
            "       15999       0.00      0.00      0.00         2\n",
            "       16490       0.00      0.00      0.00         0\n",
            "       16899       1.00      1.00      1.00         1\n",
            "       16990       0.00      0.00      0.00         0\n",
            "       17398       0.00      0.00      0.00         1\n",
            "       17990       1.00      1.00      1.00         1\n",
            "       18499       0.50      1.00      0.67         1\n",
            "       18570       0.00      0.00      0.00         2\n",
            "       18990       1.00      1.00      1.00         1\n",
            "       18999       1.00      1.00      1.00         3\n",
            "       19900       1.00      1.00      1.00         2\n",
            "       19999       1.00      1.00      1.00         1\n",
            "       22999       0.75      1.00      0.86         3\n",
            "       24990       1.00      1.00      1.00         1\n",
            "       24999       0.50      1.00      0.67         2\n",
            "       27999       1.00      1.00      1.00         1\n",
            "       29990       1.00      1.00      1.00         1\n",
            "       29999       1.00      0.67      0.80         3\n",
            "       30999       1.00      1.00      1.00         1\n",
            "       31590       1.00      1.00      1.00         1\n",
            "       31990       1.00      1.00      1.00         2\n",
            "       34990       0.00      0.00      0.00         0\n",
            "       36999       1.00      1.00      1.00         2\n",
            "       37319       1.00      1.00      1.00         1\n",
            "       37990       0.00      0.00      0.00         1\n",
            "       38990       1.00      1.00      1.00         1\n",
            "       39999       1.00      1.00      1.00         2\n",
            "       42990       1.00      1.00      1.00         1\n",
            "       42998       1.00      1.00      1.00         1\n",
            "       42999       0.00      0.00      0.00         2\n",
            "       43999       1.00      1.00      1.00         1\n",
            "       47999       0.33      1.00      0.50         1\n",
            "       54990       0.00      0.00      0.00         1\n",
            "       56999       1.00      1.00      1.00         1\n",
            "       68300       1.00      1.00      1.00         1\n",
            "       75000       0.00      0.00      0.00         1\n",
            "      103000       0.00      0.00      0.00         1\n",
            "      117100       1.00      1.00      1.00         1\n",
            "      140300       1.00      1.00      1.00         2\n",
            "      563000       1.00      1.00      1.00         1\n",
            "\n",
            "    accuracy                           0.61       168\n",
            "   macro avg       0.51      0.53      0.50       168\n",
            "weighted avg       0.64      0.61      0.59       168\n",
            "\n"
          ]
        }
      ],
      "source": [
        "# Create and fit the Random Forest model\n",
        "rf_model = RandomForestClassifier(n_estimators=100, random_state=42)\n",
        "rf_model.fit(X_train, y_train)\n",
        "\n",
        "# Make predictions\n",
        "rf_predictions = rf_model.predict(X_test)\n",
        "\n",
        "# Evaluate the model\n",
        "print(\"Random Forest Model Evaluation:\")\n",
        "print(\"Accuracy:\", accuracy_score(y_test, rf_predictions))\n",
        "print(classification_report(y_test, rf_predictions))\n"
      ]
    },
    {
      "cell_type": "markdown",
      "metadata": {
        "id": "FwaBXM3PlQEw"
      },
      "source": [
        "# Model"
      ]
    },
    {
      "cell_type": "code",
      "execution_count": null,
      "metadata": {
        "id": "8R3M-KOcqrzW"
      },
      "outputs": [],
      "source": [
        "# Save the Random Forest model to a file\n",
        "joblib.dump(rf_model, 'random_forest_model.pkl')\n",
        "\n",
        "# To load the model later\n",
        "loaded_rf_model = joblib.load('random_forest_model.pkl')\n"
      ]
    }
  ],
  "metadata": {
    "colab": {
      "provenance": []
    },
    "kernelspec": {
      "display_name": "Python 3",
      "name": "python3"
    },
    "language_info": {
      "name": "python"
    }
  },
  "nbformat": 4,
  "nbformat_minor": 0
}
